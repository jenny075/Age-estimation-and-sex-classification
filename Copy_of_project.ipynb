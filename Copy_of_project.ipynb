{
 "cells": [
  {
   "cell_type": "markdown",
   "metadata": {
    "id": "g-vDs0nFo4cj"
   },
   "source": [
    "##**Create Block and Nets**"
   ]
  },
  {
   "cell_type": "code",
   "execution_count": null,
   "metadata": {
    "colab": {
     "base_uri": "https://localhost:8080/",
     "height": 675
    },
    "id": "kHaoFBo4S0F3",
    "outputId": "d1ff1ded-22e4-458a-f2ed-09115821b71c"
   },
   "outputs": [
    {
     "output_type": "stream",
     "name": "stdout",
     "text": [
      "Looking in indexes: https://pypi.org/simple, https://us-python.pkg.dev/colab-wheels/public/simple/\n",
      "Requirement already satisfied: wfdb in /usr/local/lib/python3.7/dist-packages (3.4.1)\n",
      "Requirement already satisfied: numpy>=1.10.1 in /usr/local/lib/python3.7/dist-packages (from wfdb) (1.21.6)\n",
      "Requirement already satisfied: requests>=2.8.1 in /usr/local/lib/python3.7/dist-packages (from wfdb) (2.23.0)\n",
      "Requirement already satisfied: scipy>=0.17.0 in /usr/local/lib/python3.7/dist-packages (from wfdb) (1.4.1)\n",
      "Collecting matplotlib>=3.3.4\n",
      "  Using cached matplotlib-3.5.2-cp37-cp37m-manylinux_2_5_x86_64.manylinux1_x86_64.whl (11.2 MB)\n",
      "Requirement already satisfied: pandas>=0.17.0 in /usr/local/lib/python3.7/dist-packages (from wfdb) (1.3.5)\n",
      "Requirement already satisfied: kiwisolver>=1.0.1 in /usr/local/lib/python3.7/dist-packages (from matplotlib>=3.3.4->wfdb) (1.4.2)\n",
      "Requirement already satisfied: packaging>=20.0 in /usr/local/lib/python3.7/dist-packages (from matplotlib>=3.3.4->wfdb) (21.3)\n",
      "Requirement already satisfied: python-dateutil>=2.7 in /usr/local/lib/python3.7/dist-packages (from matplotlib>=3.3.4->wfdb) (2.8.2)\n",
      "Requirement already satisfied: pyparsing>=2.2.1 in /usr/local/lib/python3.7/dist-packages (from matplotlib>=3.3.4->wfdb) (3.0.9)\n",
      "Requirement already satisfied: pillow>=6.2.0 in /usr/local/lib/python3.7/dist-packages (from matplotlib>=3.3.4->wfdb) (7.1.2)\n",
      "Requirement already satisfied: fonttools>=4.22.0 in /usr/local/lib/python3.7/dist-packages (from matplotlib>=3.3.4->wfdb) (4.33.3)\n",
      "Requirement already satisfied: cycler>=0.10 in /usr/local/lib/python3.7/dist-packages (from matplotlib>=3.3.4->wfdb) (0.11.0)\n",
      "Requirement already satisfied: typing-extensions in /usr/local/lib/python3.7/dist-packages (from kiwisolver>=1.0.1->matplotlib>=3.3.4->wfdb) (4.2.0)\n",
      "Requirement already satisfied: pytz>=2017.3 in /usr/local/lib/python3.7/dist-packages (from pandas>=0.17.0->wfdb) (2022.1)\n",
      "Requirement already satisfied: six>=1.5 in /usr/local/lib/python3.7/dist-packages (from python-dateutil>=2.7->matplotlib>=3.3.4->wfdb) (1.15.0)\n",
      "Requirement already satisfied: certifi>=2017.4.17 in /usr/local/lib/python3.7/dist-packages (from requests>=2.8.1->wfdb) (2022.5.18.1)\n",
      "Requirement already satisfied: chardet<4,>=3.0.2 in /usr/local/lib/python3.7/dist-packages (from requests>=2.8.1->wfdb) (3.0.4)\n",
      "Requirement already satisfied: idna<3,>=2.5 in /usr/local/lib/python3.7/dist-packages (from requests>=2.8.1->wfdb) (2.10)\n",
      "Requirement already satisfied: urllib3!=1.25.0,!=1.25.1,<1.26,>=1.21.1 in /usr/local/lib/python3.7/dist-packages (from requests>=2.8.1->wfdb) (1.24.3)\n",
      "Installing collected packages: matplotlib\n",
      "  Attempting uninstall: matplotlib\n",
      "    Found existing installation: matplotlib 3.1.3\n",
      "    Uninstalling matplotlib-3.1.3:\n",
      "      Successfully uninstalled matplotlib-3.1.3\n",
      "\u001B[31mERROR: pip's dependency resolver does not currently take into account all the packages that are installed. This behaviour is the source of the following dependency conflicts.\n",
      "albumentations 0.1.12 requires imgaug<0.2.7,>=0.2.5, but you have imgaug 0.2.9 which is incompatible.\u001B[0m\n",
      "Successfully installed matplotlib-3.5.2\n"
     ]
    },
    {
     "output_type": "display_data",
     "data": {
      "application/vnd.colab-display-data+json": {
       "pip_warning": {
        "packages": [
         "matplotlib",
         "mpl_toolkits"
        ]
       }
      }
     },
     "metadata": {}
    }
   ],
   "source": [
    "!pip install wfdb"
   ]
  },
  {
   "cell_type": "code",
   "execution_count": null,
   "metadata": {
    "id": "zIViofiPS0Cb"
   },
   "outputs": [],
   "source": [
    "# imports\n",
    "import torch.nn as nn\n",
    "import torch.nn.functional as F\n",
    "import scipy\n",
    "import pandas as pd\n",
    "import numpy as np\n",
    "import wfdb\n",
    "import ast\n",
    "import torch\n",
    "import time\n",
    "from torch.utils.tensorboard import SummaryWriter\n",
    "from torch.utils.data import DataLoader, TensorDataset\n",
    "import torch.optim as optim\n"
   ]
  },
  {
   "cell_type": "code",
   "execution_count": null,
   "metadata": {
    "colab": {
     "base_uri": "https://localhost:8080/"
    },
    "id": "pOUyNE7zodFn",
    "outputId": "90b9a151-0a52-459c-de4b-3072556207b3"
   },
   "outputs": [
    {
     "output_type": "stream",
     "name": "stdout",
     "text": [
      "Drive already mounted at /content/drive; to attempt to forcibly remount, call drive.mount(\"/content/drive\", force_remount=True).\n"
     ]
    }
   ],
   "source": [
    "# load drive \n",
    "from google.colab import drive \n",
    "drive.mount('/content/drive')\n"
   ]
  },
  {
   "cell_type": "code",
   "execution_count": null,
   "metadata": {
    "id": "pA5xLn2mHB4i",
    "colab": {
     "base_uri": "https://localhost:8080/",
     "height": 190
    },
    "outputId": "6b956939-6003-44ac-b95e-78635707db79"
   },
   "outputs": [
    {
     "output_type": "error",
     "ename": "FileNotFoundError",
     "evalue": "ignored",
     "traceback": [
      "\u001B[0;31m---------------------------------------------------------------------------\u001B[0m",
      "\u001B[0;31mFileNotFoundError\u001B[0m                         Traceback (most recent call last)",
      "\u001B[0;32m<ipython-input-100-954bc3ac37b7>\u001B[0m in \u001B[0;36m<module>\u001B[0;34m()\u001B[0m\n\u001B[1;32m      1\u001B[0m \u001B[0;32mimport\u001B[0m \u001B[0mos\u001B[0m\u001B[0;34m\u001B[0m\u001B[0;34m\u001B[0m\u001B[0m\n\u001B[0;32m----> 2\u001B[0;31m \u001B[0mos\u001B[0m\u001B[0;34m.\u001B[0m\u001B[0mchdir\u001B[0m\u001B[0;34m(\u001B[0m\u001B[0;34m\"drive/My Drive/\"\u001B[0m\u001B[0;34m)\u001B[0m\u001B[0;34m\u001B[0m\u001B[0;34m\u001B[0m\u001B[0m\n\u001B[0m",
      "\u001B[0;31mFileNotFoundError\u001B[0m: [Errno 2] No such file or directory: 'drive/My Drive/'"
     ]
    }
   ],
   "source": [
    "import os\n",
    "os.chdir(\"drive/My Drive/\")"
   ]
  },
  {
   "cell_type": "code",
   "execution_count": null,
   "metadata": {
    "id": "G5Au2dtVEoyi",
    "colab": {
     "base_uri": "https://localhost:8080/",
     "height": 675
    },
    "outputId": "ed701cfb-fc17-4372-9f8e-c1d10511d9d1"
   },
   "outputs": [
    {
     "output_type": "stream",
     "name": "stdout",
     "text": [
      "Found existing installation: matplotlib 3.5.2\n",
      "Uninstalling matplotlib-3.5.2:\n",
      "  Would remove:\n",
      "    /usr/local/lib/python3.7/dist-packages/matplotlib-3.5.2-py3.7-nspkg.pth\n",
      "    /usr/local/lib/python3.7/dist-packages/matplotlib-3.5.2.dist-info/*\n",
      "    /usr/local/lib/python3.7/dist-packages/matplotlib/*\n",
      "    /usr/local/lib/python3.7/dist-packages/mpl_toolkits/axes_grid/*\n",
      "    /usr/local/lib/python3.7/dist-packages/mpl_toolkits/axes_grid1/*\n",
      "    /usr/local/lib/python3.7/dist-packages/mpl_toolkits/axisartist/*\n",
      "    /usr/local/lib/python3.7/dist-packages/mpl_toolkits/mplot3d/*\n",
      "    /usr/local/lib/python3.7/dist-packages/mpl_toolkits/tests/*\n",
      "    /usr/local/lib/python3.7/dist-packages/pylab.py\n",
      "Proceed (y/n)? y\n",
      "\n",
      "  Successfully uninstalled matplotlib-3.5.2\n",
      "Looking in indexes: https://pypi.org/simple, https://us-python.pkg.dev/colab-wheels/public/simple/\n",
      "Collecting matplotlib==3.1.3\n",
      "  Using cached matplotlib-3.1.3-cp37-cp37m-manylinux1_x86_64.whl (13.1 MB)\n",
      "Requirement already satisfied: pyparsing!=2.0.4,!=2.1.2,!=2.1.6,>=2.0.1 in /usr/local/lib/python3.7/dist-packages (from matplotlib==3.1.3) (3.0.9)\n",
      "Requirement already satisfied: cycler>=0.10 in /usr/local/lib/python3.7/dist-packages (from matplotlib==3.1.3) (0.11.0)\n",
      "Requirement already satisfied: python-dateutil>=2.1 in /usr/local/lib/python3.7/dist-packages (from matplotlib==3.1.3) (2.8.2)\n",
      "Requirement already satisfied: numpy>=1.11 in /usr/local/lib/python3.7/dist-packages (from matplotlib==3.1.3) (1.21.6)\n",
      "Requirement already satisfied: kiwisolver>=1.0.1 in /usr/local/lib/python3.7/dist-packages (from matplotlib==3.1.3) (1.4.2)\n",
      "Requirement already satisfied: typing-extensions in /usr/local/lib/python3.7/dist-packages (from kiwisolver>=1.0.1->matplotlib==3.1.3) (4.2.0)\n",
      "Requirement already satisfied: six>=1.5 in /usr/local/lib/python3.7/dist-packages (from python-dateutil>=2.1->matplotlib==3.1.3) (1.15.0)\n",
      "Installing collected packages: matplotlib\n",
      "\u001B[31mERROR: pip's dependency resolver does not currently take into account all the packages that are installed. This behaviour is the source of the following dependency conflicts.\n",
      "wfdb 3.4.1 requires matplotlib>=3.3.4, but you have matplotlib 3.1.3 which is incompatible.\n",
      "albumentations 0.1.12 requires imgaug<0.2.7,>=0.2.5, but you have imgaug 0.2.9 which is incompatible.\u001B[0m\n",
      "Successfully installed matplotlib-3.1.3\n"
     ]
    },
    {
     "output_type": "display_data",
     "data": {
      "application/vnd.colab-display-data+json": {
       "pip_warning": {
        "packages": [
         "matplotlib",
         "mpl_toolkits"
        ]
       }
      }
     },
     "metadata": {}
    }
   ],
   "source": [
    "!pip uninstall matplotlib\n",
    "!pip install matplotlib==3.1.3\n",
    "%matplotlib inline\n"
   ]
  },
  {
   "cell_type": "code",
   "execution_count": null,
   "metadata": {
    "id": "9UJi-ziH63mE"
   },
   "outputs": [],
   "source": [
    "\n",
    "# !wget -r -N -c -np https://physionet.org/files/challenge-2018/1.0.0/"
   ]
  },
  {
   "cell_type": "code",
   "execution_count": null,
   "metadata": {
    "id": "RV0_dYMmHPlX"
   },
   "outputs": [],
   "source": [
    "!ls"
   ]
  },
  {
   "cell_type": "markdown",
   "metadata": {
    "id": "pEVSaCeBTBZd"
   },
   "source": [
    "## Network blocks"
   ]
  },
  {
   "cell_type": "code",
   "execution_count": null,
   "metadata": {
    "id": "KVc3WLDU6Owp"
   },
   "outputs": [],
   "source": [
    "class TemporalBlock(nn.Module):\n",
    "    def __init__(self,input_dim,output_dim,kernel,max_pool):\n",
    "        super().__init__()\n",
    "        self.conv1 = nn.Conv1d(input_dim, output_dim, kernel_size=(kernel))\n",
    "        self.BN = nn.BatchNorm1d(output_dim)\n",
    "        self.MP = nn.MaxPool1d(max_pool)\n",
    "        \n",
    "\n",
    "    def forward(self, x):\n",
    "        x = self.conv1(x)\n",
    "        # print('conv',x)\n",
    "        x = F.relu(self.BN(x))\n",
    "        # print('relu+BN',x)\n",
    "        x = self.MP(x)\n",
    "        # print('MP',x)\n",
    "\n",
    "        return x"
   ]
  },
  {
   "cell_type": "code",
   "execution_count": null,
   "metadata": {
    "id": "nA2at3EYon28"
   },
   "outputs": [],
   "source": [
    "class SpatialBlock(nn.Module):\n",
    "    def __init__(self,input_dim,output_dim,kernel,max_pool):\n",
    "        super().__init__()\n",
    "        self.conv1 = nn.Conv1d(input_dim, output_dim, kernel_size=(kernel))\n",
    "        self.BN = nn.BatchNorm1d(output_dim)\n",
    "        self.MP = nn.MaxPool1d(max_pool)\n",
    "        \n",
    "\n",
    "    def forward(self, x):\n",
    "        x = self.conv1(x)\n",
    "        \n",
    "        x = F.relu(self.BN(x))\n",
    "        \n",
    "        x = self.MP(x)\n",
    "        \n",
    "\n",
    "        return x"
   ]
  },
  {
   "cell_type": "code",
   "execution_count": null,
   "metadata": {
    "id": "hqMwYgcSxzDf"
   },
   "outputs": [],
   "source": [
    "class FCBlock(nn.Module):\n",
    "    def __init__(self,input_dim,output_dim):\n",
    "        super().__init__()\n",
    "        self.FC = nn.Linear(input_dim, output_dim)\n",
    "        self.BN = nn.BatchNorm1d(output_dim)\n",
    "        \n",
    "\n",
    "    def forward(self, x):\n",
    "        x = self.FC(x)\n",
    "        x = F.relu(self.BN(x))\n",
    "        x = F.dropout(x)\n",
    "\n",
    "        return x"
   ]
  },
  {
   "cell_type": "code",
   "execution_count": null,
   "metadata": {
    "id": "aravpzXY0LRa"
   },
   "outputs": [],
   "source": [
    "class SexNet(nn.Module):\n",
    "  \n",
    "    def __init__(self):\n",
    "        super().__init__()\n",
    "        self.Temp1 = TemporalBlock(12,16,7,2)\n",
    "        self.Temp2 = TemporalBlock(16,16,5,4)\n",
    "        self.Temp3 = TemporalBlock(16,32,4,2)\n",
    "        self.Temp4 = TemporalBlock(32,32,5,4)\n",
    "        self.Temp5 = TemporalBlock(32,64,5,2)\n",
    "        self.Temp6 = TemporalBlock(64,64,3,2)\n",
    "        self.Temp7 = TemporalBlock(64,64,3,2)\n",
    "        self.Temp8 = TemporalBlock(64,64,3,1)\n",
    "        self.Spat = SpatialBlock(5,128,12,2)\n",
    "        self.FC1 =  FCBlock(128*26,128)\n",
    "        self.FC2 =  FCBlock(128,64)\n",
    "        self.out = nn.Linear(64,2)\n",
    "\n",
    "    def forward(self, x):\n",
    "        x = self.Temp1(x)\n",
    "        x = self.Temp2(x)\n",
    "        x = self.Temp3(x)\n",
    "        x = self.Temp4(x)\n",
    "        x = self.Temp5(x)\n",
    "        x = self.Temp6(x)\n",
    "        x = self.Temp7(x)\n",
    "        x = self.Temp8(x)\n",
    "\n",
    "        x = torch.swapaxes(x, 1,2)\n",
    "        x = self.Spat(x)\n",
    "        x = x.view(x.shape[0],-1)\n",
    "        x = self.FC1(x)\n",
    "        x = self.FC2(x)\n",
    "        x = self.out(x)\n",
    "\n",
    "        return x"
   ]
  },
  {
   "cell_type": "code",
   "execution_count": null,
   "metadata": {
    "id": "IdBzxy0Z6KU5"
   },
   "outputs": [],
   "source": [
    "class AgeNet(nn.Module):\n",
    "    def __init__(self):\n",
    "        super().__init__()\n",
    "        self.Temp1 = TemporalBlock(12,16,7,2)\n",
    "        self.Temp2 = TemporalBlock(16,16,5,4)\n",
    "        self.Temp3 = TemporalBlock(16,32,4,2)\n",
    "        self.Temp4 = TemporalBlock(32,32,5,4)\n",
    "        self.Temp5 = TemporalBlock(32,64,5,2)\n",
    "        self.Temp6 = TemporalBlock(64,64,3,2)\n",
    "        self.Temp7 = TemporalBlock(64,64,3,2)\n",
    "        self.Temp8 = TemporalBlock(64,64,3,1)\n",
    "        self.Spat = SpatialBlock(5,128,12,2)\n",
    "\n",
    "        self.FC1 =  FCBlock(128*26,128)\n",
    "        self.FC2 =  FCBlock(128,64)\n",
    "        self.out = nn.Linear(64,1)\n",
    "\n",
    "    def forward(self, x):\n",
    "        x = self.Temp1(x)\n",
    "        x = self.Temp2(x)\n",
    "        x = self.Temp3(x)\n",
    "        x = self.Temp4(x)\n",
    "        x = self.Temp5(x)\n",
    "        x = self.Temp6(x)\n",
    "        x = self.Temp7(x)\n",
    "        x = self.Temp8(x)\n",
    "        x = torch.swapaxes(x, 1,2)\n",
    "        x = self.Spat(x)\n",
    "        x = x.view(x.shape[0],-1)\n",
    "        x = self.FC1(x)\n",
    "        x = self.FC2(x)\n",
    "        x = self.out(x)\n",
    "\n",
    "        return x.squeeze()"
   ]
  },
  {
   "cell_type": "code",
   "execution_count": null,
   "metadata": {
    "id": "vj3TfhFSeJD_"
   },
   "outputs": [],
   "source": [
    "def writeCSVLoggerFile(csvLoggerFile_path,log):\n",
    "    df = pd.DataFrame([log])\n",
    "    # print(df)\n",
    "    with open(csvLoggerFile_path, 'a') as f:\n",
    "        df.to_csv(f, mode='a', header=f.tell() == 0, index=False)"
   ]
  },
  {
   "cell_type": "markdown",
   "metadata": {
    "id": "ohDnK_nLUf8p"
   },
   "source": [
    "### Load Data\n"
   ]
  },
  {
   "cell_type": "code",
   "execution_count": null,
   "metadata": {
    "id": "LS94cF5a2Zth"
   },
   "outputs": [],
   "source": [
    "class ECGDataset(torch.utils.data.Dataset):\n",
    "    \"\"\"\n",
    "    A PyTorch Dataset that provides access to MR image slices.\n",
    "    \"\"\"\n",
    "\n",
    "    def __init__(\n",
    "        self,\n",
    "        df,\n",
    "        sampling_rate,\n",
    "        label_type, # sex/age\n",
    "    ):\n",
    "        self.df = df   \n",
    "        self.sampling_rate = sampling_rate\n",
    "        self.label_type = label_type\n",
    "        self.test_fold = 10\n",
    "        self.val_fol = 9\n",
    "        \n",
    "\n",
    "    def __len__(self):\n",
    "        return self.df.shape[0]\n",
    "\n",
    "    def __getitem__(self, i: int):\n",
    "          df = self.df.iloc[i]\n",
    "\n",
    "          if self.sampling_rate == 100:\n",
    "              data = wfdb.rdsamp(df.filename_lr) \n",
    "          else:\n",
    "              data = wfdb.rdsamp(df.filename_hr)\n",
    "          signal, _ = data\n",
    "          data = np.array(signal)\n",
    "          data_pad = np.zeros((data.shape[0]+120,data.shape[1]))\n",
    "          data_pad[60:-60,:] = data\n",
    "          signal = torch.Tensor(data_pad)\n",
    "\n",
    "          if self.label_type == 'sex': \n",
    "              label = (df.sex)\n",
    "          else:\n",
    "              label = (df.age)\n",
    "          return signal, label"
   ]
  },
  {
   "cell_type": "code",
   "execution_count": null,
   "metadata": {
    "id": "z2igm6n6AUni"
   },
   "outputs": [],
   "source": [
    "def load_raw_data(df, sampling_rate):\n",
    "    if sampling_rate == 100:\n",
    "        data = [wfdb.rdsamp(f) for f in df.filename_lr]\n",
    "    else:\n",
    "        data = [wfdb.rdsamp(f) for f in df.filename_hr]\n",
    "    data = np.array([signal for signal, meta in data])\n",
    "    return data\n",
    "\n",
    "sampling_rate=500\n",
    "\n",
    "## According to the data ducomentation it's suggested to use folds 1-8 as training set, fold 9 as validation set and fold 10 as test set.\n",
    "\n",
    "# Split data into train, validation and test\n",
    "test_fold = 10\n",
    "val_fold = 9 \n",
    "\n",
    "# load and convert annotation data\n",
    "Y = pd.read_csv('ptbxl_database.csv', index_col='ecg_id')[:500]\n",
    "Y.scp_codes = Y.scp_codes.apply(lambda x: ast.literal_eval(x))\n",
    "Y = Y.dropna(subset=['sex', 'age'])\n",
    "\n",
    "Y_train = Y[(((Y.strat_fold != test_fold) & (Y.strat_fold != val_fold)))]\n",
    "Y_val = Y[(((Y.strat_fold == val_fold)))]\n",
    "Y_test = Y[(((Y.strat_fold == test_fold)))]\n",
    "\n",
    "\n",
    "dataset_train_sex = ECGDataset(Y_train, 500, 'sex')\n",
    "train_dataloader_sex = DataLoader(dataset_train_sex , batch_size=16, shuffle=True,drop_last=True)\n",
    "dataset_train_age = ECGDataset(Y_train, 500, 'age')\n",
    "train_dataloader_age = DataLoader(dataset_train_age , batch_size=64, shuffle=True,drop_last=True)\n",
    "\n",
    "dataset_val_sex = ECGDataset(Y_val, 500, 'sex')\n",
    "val_dataloader_sex = DataLoader(dataset_val_sex , batch_size=16, shuffle=False,drop_last=True)\n",
    "dataset_val_age = ECGDataset(Y_val, 500, 'age')\n",
    "val_dataloader_age = DataLoader(dataset_val_age , batch_size=64, shuffle=False,drop_last=True)\n",
    "\n",
    "dataset_test_sex = ECGDataset(Y_test, 500, 'sex')\n",
    "test_dataloader_sex = DataLoader(dataset_test_sex , batch_size=16, shuffle=False,drop_last=True)\n",
    "dataset_test_age = ECGDataset(Y_test, 500, 'age')\n",
    "test_dataloader_age = DataLoader(dataset_test_age , batch_size=64, shuffle=False,drop_last=True)\n",
    "\n",
    "\n",
    "training_log_age = {}\n",
    "validaiting_log_age = {}\n",
    "training_log_sex = {}\n",
    "validaiting_log_sex = {}"
   ]
  },
  {
   "cell_type": "code",
   "execution_count": null,
   "metadata": {
    "id": "vqt0s2NKOtzI"
   },
   "outputs": [],
   "source": [
    "# # data analysis\n",
    "# import matplotlib.pyplot as plt\n",
    "\n",
    "# plt.hist(y_train_sex)\n",
    "# plt.title('Train - sex')\n",
    "# plt.show()\n",
    "\n",
    "# plt.hist(y_train_age, bins=len(y_train_age) )\n",
    "# plt.title('Train - age')\n",
    "# plt.show()\n",
    "\n",
    "\n",
    "# # sex=1, age distrebution\n",
    "# y_sex1_age = torch.Tensor(Y[(((Y.strat_fold != test_fold) & (Y.strat_fold != val_fold) & (Y.sex == 1)))].age.values)\n",
    "# plt.hist(y_train_age, bins=len(y_sex1_age) )\n",
    "# plt.title('Train - sex1_age')\n",
    "# plt.show()\n",
    "\n",
    "# # sex=0, age distrebution\n",
    "# y_sex0_age = torch.Tensor(Y[(((Y.strat_fold != test_fold) & (Y.strat_fold != val_fold) & (Y.sex == 0)))].age.values)\n",
    "# plt.hist(y_train_age, bins=len(y_sex0_age) )\n",
    "# plt.title('Train - sex0_age')\n",
    "# plt.show()"
   ]
  },
  {
   "cell_type": "code",
   "execution_count": null,
   "metadata": {
    "id": "YquRXNojTEQt",
    "colab": {
     "base_uri": "https://localhost:8080/"
    },
    "outputId": "9348b360-9c23-4547-b5d2-47f7584c9e28"
   },
   "outputs": [
    {
     "output_type": "stream",
     "name": "stdout",
     "text": [
      "/content/drive/MyDrive/results_2/_09_06_2022_16_29\n"
     ]
    }
   ],
   "source": [
    "start_time = time.strftime(\"_%d_%m_%Y_%H_%M\")\n",
    "result_dir = '/content/drive/MyDrive/results_2' +'/' + start_time \n",
    "os.makedirs(result_dir, exist_ok=True)\n",
    "writer = SummaryWriter(result_dir + '/' + 'tensor_logs')\n",
    "save_each = 5\n",
    "print(result_dir)\n",
    "\n",
    "if not os.path.isdir(result_dir +'/Saved_age'+ '/Periodic_save'):\n",
    "  os.makedirs(result_dir +'/Saved_age' +'/Periodic_save', exist_ok=True)\n",
    "\n",
    "if not os.path.isdir(result_dir +'/Saved_age'+ '/Best_model_save'):\n",
    "  os.makedirs(result_dir +'/Saved_age' +'/Best_model_save', exist_ok=True)\n",
    "csvLoggerFile_path_train_age = os.path.join(result_dir, \"history_train_age.csv\")\n",
    "csvLoggerFile_path_val_age = os.path.join(result_dir, \"history_val_age.csv\")\n",
    "csvLoggerFile_path_train_sex = os.path.join(result_dir, \"history_train_sex.csv\")\n",
    "csvLoggerFile_path_val_sex = os.path.join(result_dir, \"history_val_sex.csv\")\n"
   ]
  },
  {
   "cell_type": "code",
   "execution_count": null,
   "metadata": {
    "id": "FKA_pneyS3T8",
    "colab": {
     "base_uri": "https://localhost:8080/"
    },
    "outputId": "c2bd4d99-2d6a-4181-e6df-221b92c62ddc"
   },
   "outputs": [
    {
     "output_type": "stream",
     "name": "stdout",
     "text": [
      "AgeNet(\n",
      "  (Temp1): TemporalBlock(\n",
      "    (conv1): Conv1d(12, 16, kernel_size=(7,), stride=(1,))\n",
      "    (BN): BatchNorm1d(16, eps=1e-05, momentum=0.1, affine=True, track_running_stats=True)\n",
      "    (MP): MaxPool1d(kernel_size=2, stride=2, padding=0, dilation=1, ceil_mode=False)\n",
      "  )\n",
      "  (Temp2): TemporalBlock(\n",
      "    (conv1): Conv1d(16, 16, kernel_size=(5,), stride=(1,))\n",
      "    (BN): BatchNorm1d(16, eps=1e-05, momentum=0.1, affine=True, track_running_stats=True)\n",
      "    (MP): MaxPool1d(kernel_size=4, stride=4, padding=0, dilation=1, ceil_mode=False)\n",
      "  )\n",
      "  (Temp3): TemporalBlock(\n",
      "    (conv1): Conv1d(16, 32, kernel_size=(4,), stride=(1,))\n",
      "    (BN): BatchNorm1d(32, eps=1e-05, momentum=0.1, affine=True, track_running_stats=True)\n",
      "    (MP): MaxPool1d(kernel_size=2, stride=2, padding=0, dilation=1, ceil_mode=False)\n",
      "  )\n",
      "  (Temp4): TemporalBlock(\n",
      "    (conv1): Conv1d(32, 32, kernel_size=(5,), stride=(1,))\n",
      "    (BN): BatchNorm1d(32, eps=1e-05, momentum=0.1, affine=True, track_running_stats=True)\n",
      "    (MP): MaxPool1d(kernel_size=4, stride=4, padding=0, dilation=1, ceil_mode=False)\n",
      "  )\n",
      "  (Temp5): TemporalBlock(\n",
      "    (conv1): Conv1d(32, 64, kernel_size=(5,), stride=(1,))\n",
      "    (BN): BatchNorm1d(64, eps=1e-05, momentum=0.1, affine=True, track_running_stats=True)\n",
      "    (MP): MaxPool1d(kernel_size=2, stride=2, padding=0, dilation=1, ceil_mode=False)\n",
      "  )\n",
      "  (Temp6): TemporalBlock(\n",
      "    (conv1): Conv1d(64, 64, kernel_size=(3,), stride=(1,))\n",
      "    (BN): BatchNorm1d(64, eps=1e-05, momentum=0.1, affine=True, track_running_stats=True)\n",
      "    (MP): MaxPool1d(kernel_size=2, stride=2, padding=0, dilation=1, ceil_mode=False)\n",
      "  )\n",
      "  (Temp7): TemporalBlock(\n",
      "    (conv1): Conv1d(64, 64, kernel_size=(3,), stride=(1,))\n",
      "    (BN): BatchNorm1d(64, eps=1e-05, momentum=0.1, affine=True, track_running_stats=True)\n",
      "    (MP): MaxPool1d(kernel_size=2, stride=2, padding=0, dilation=1, ceil_mode=False)\n",
      "  )\n",
      "  (Temp8): TemporalBlock(\n",
      "    (conv1): Conv1d(64, 64, kernel_size=(3,), stride=(1,))\n",
      "    (BN): BatchNorm1d(64, eps=1e-05, momentum=0.1, affine=True, track_running_stats=True)\n",
      "    (MP): MaxPool1d(kernel_size=1, stride=1, padding=0, dilation=1, ceil_mode=False)\n",
      "  )\n",
      "  (Spat): SpatialBlock(\n",
      "    (conv1): Conv1d(5, 128, kernel_size=(12,), stride=(1,))\n",
      "    (BN): BatchNorm1d(128, eps=1e-05, momentum=0.1, affine=True, track_running_stats=True)\n",
      "    (MP): MaxPool1d(kernel_size=2, stride=2, padding=0, dilation=1, ceil_mode=False)\n",
      "  )\n",
      "  (FC1): FCBlock(\n",
      "    (FC): Linear(in_features=3328, out_features=128, bias=True)\n",
      "    (BN): BatchNorm1d(128, eps=1e-05, momentum=0.1, affine=True, track_running_stats=True)\n",
      "  )\n",
      "  (FC2): FCBlock(\n",
      "    (FC): Linear(in_features=128, out_features=64, bias=True)\n",
      "    (BN): BatchNorm1d(64, eps=1e-05, momentum=0.1, affine=True, track_running_stats=True)\n",
      "  )\n",
      "  (out): Linear(in_features=64, out_features=1, bias=True)\n",
      ")\n",
      "SexNet(\n",
      "  (Temp1): TemporalBlock(\n",
      "    (conv1): Conv1d(12, 16, kernel_size=(7,), stride=(1,))\n",
      "    (BN): BatchNorm1d(16, eps=1e-05, momentum=0.1, affine=True, track_running_stats=True)\n",
      "    (MP): MaxPool1d(kernel_size=2, stride=2, padding=0, dilation=1, ceil_mode=False)\n",
      "  )\n",
      "  (Temp2): TemporalBlock(\n",
      "    (conv1): Conv1d(16, 16, kernel_size=(5,), stride=(1,))\n",
      "    (BN): BatchNorm1d(16, eps=1e-05, momentum=0.1, affine=True, track_running_stats=True)\n",
      "    (MP): MaxPool1d(kernel_size=4, stride=4, padding=0, dilation=1, ceil_mode=False)\n",
      "  )\n",
      "  (Temp3): TemporalBlock(\n",
      "    (conv1): Conv1d(16, 32, kernel_size=(4,), stride=(1,))\n",
      "    (BN): BatchNorm1d(32, eps=1e-05, momentum=0.1, affine=True, track_running_stats=True)\n",
      "    (MP): MaxPool1d(kernel_size=2, stride=2, padding=0, dilation=1, ceil_mode=False)\n",
      "  )\n",
      "  (Temp4): TemporalBlock(\n",
      "    (conv1): Conv1d(32, 32, kernel_size=(5,), stride=(1,))\n",
      "    (BN): BatchNorm1d(32, eps=1e-05, momentum=0.1, affine=True, track_running_stats=True)\n",
      "    (MP): MaxPool1d(kernel_size=4, stride=4, padding=0, dilation=1, ceil_mode=False)\n",
      "  )\n",
      "  (Temp5): TemporalBlock(\n",
      "    (conv1): Conv1d(32, 64, kernel_size=(5,), stride=(1,))\n",
      "    (BN): BatchNorm1d(64, eps=1e-05, momentum=0.1, affine=True, track_running_stats=True)\n",
      "    (MP): MaxPool1d(kernel_size=2, stride=2, padding=0, dilation=1, ceil_mode=False)\n",
      "  )\n",
      "  (Temp6): TemporalBlock(\n",
      "    (conv1): Conv1d(64, 64, kernel_size=(3,), stride=(1,))\n",
      "    (BN): BatchNorm1d(64, eps=1e-05, momentum=0.1, affine=True, track_running_stats=True)\n",
      "    (MP): MaxPool1d(kernel_size=2, stride=2, padding=0, dilation=1, ceil_mode=False)\n",
      "  )\n",
      "  (Temp7): TemporalBlock(\n",
      "    (conv1): Conv1d(64, 64, kernel_size=(3,), stride=(1,))\n",
      "    (BN): BatchNorm1d(64, eps=1e-05, momentum=0.1, affine=True, track_running_stats=True)\n",
      "    (MP): MaxPool1d(kernel_size=2, stride=2, padding=0, dilation=1, ceil_mode=False)\n",
      "  )\n",
      "  (Temp8): TemporalBlock(\n",
      "    (conv1): Conv1d(64, 64, kernel_size=(3,), stride=(1,))\n",
      "    (BN): BatchNorm1d(64, eps=1e-05, momentum=0.1, affine=True, track_running_stats=True)\n",
      "    (MP): MaxPool1d(kernel_size=1, stride=1, padding=0, dilation=1, ceil_mode=False)\n",
      "  )\n",
      "  (Spat): SpatialBlock(\n",
      "    (conv1): Conv1d(5, 128, kernel_size=(12,), stride=(1,))\n",
      "    (BN): BatchNorm1d(128, eps=1e-05, momentum=0.1, affine=True, track_running_stats=True)\n",
      "    (MP): MaxPool1d(kernel_size=2, stride=2, padding=0, dilation=1, ceil_mode=False)\n",
      "  )\n",
      "  (FC1): FCBlock(\n",
      "    (FC): Linear(in_features=3328, out_features=128, bias=True)\n",
      "    (BN): BatchNorm1d(128, eps=1e-05, momentum=0.1, affine=True, track_running_stats=True)\n",
      "  )\n",
      "  (FC2): FCBlock(\n",
      "    (FC): Linear(in_features=128, out_features=64, bias=True)\n",
      "    (BN): BatchNorm1d(64, eps=1e-05, momentum=0.1, affine=True, track_running_stats=True)\n",
      "  )\n",
      "  (out): Linear(in_features=64, out_features=2, bias=True)\n",
      ")\n"
     ]
    }
   ],
   "source": [
    "age_net = AgeNet()\n",
    "print(age_net)\n",
    "sex_net = SexNet()\n",
    "print(sex_net)\n",
    "criterion_age = nn.MSELoss()\n",
    "optimizer_age = optim.Adam(age_net.parameters(), lr=0.0003)\n",
    "\n",
    "criterion_sex = nn.BCEWithLogitsLoss()\n",
    "optimizer_sex = optim.Adam(sex_net.parameters(), lr=0.0003)\n"
   ]
  },
  {
   "cell_type": "code",
   "execution_count": null,
   "metadata": {
    "id": "uTy4LwusN6Jl",
    "colab": {
     "base_uri": "https://localhost:8080/"
    },
    "outputId": "23b9226f-2ac9-45ba-d6b7-b1f362d42526"
   },
   "outputs": [
    {
     "output_type": "stream",
     "name": "stdout",
     "text": [
      "0\n"
     ]
    },
    {
     "output_type": "stream",
     "name": "stderr",
     "text": [
      "100%|██████████| 5/5 [00:20<00:00,  4.11s/it]\n"
     ]
    },
    {
     "output_type": "stream",
     "name": "stdout",
     "text": [
      "14573.41162109375 4\n",
      "epoch [0] - train_avg_loss: 2914.68232421875\n"
     ]
    },
    {
     "output_type": "stream",
     "name": "stderr",
     "text": [
      "100%|██████████| 1/1 [00:04<00:00,  4.26s/it]\n"
     ]
    },
    {
     "output_type": "stream",
     "name": "stdout",
     "text": [
      "val_loss- 3055.808349609375 \n",
      "epoch [0] - val_avg_loss: 3055.808349609375\n",
      "3055.808349609375\n",
      "1\n"
     ]
    },
    {
     "output_type": "stream",
     "name": "stderr",
     "text": [
      "100%|██████████| 5/5 [00:09<00:00,  1.82s/it]\n"
     ]
    },
    {
     "output_type": "stream",
     "name": "stdout",
     "text": [
      "14603.603515625 4\n",
      "epoch [1] - train_avg_loss: 2920.720703125\n"
     ]
    },
    {
     "output_type": "stream",
     "name": "stderr",
     "text": [
      "100%|██████████| 1/1 [00:00<00:00,  2.33it/s]\n"
     ]
    },
    {
     "output_type": "stream",
     "name": "stdout",
     "text": [
      "val_loss- 3043.141357421875 \n",
      "epoch [1] - val_avg_loss: 3043.141357421875\n",
      "3055.808349609375\n",
      "save best\n",
      "2\n"
     ]
    },
    {
     "output_type": "stream",
     "name": "stderr",
     "text": [
      "100%|██████████| 5/5 [00:05<00:00,  1.05s/it]\n"
     ]
    },
    {
     "output_type": "stream",
     "name": "stdout",
     "text": [
      "14248.96435546875 4\n",
      "epoch [2] - train_avg_loss: 2849.79287109375\n"
     ]
    },
    {
     "output_type": "stream",
     "name": "stderr",
     "text": [
      "100%|██████████| 1/1 [00:00<00:00,  1.11it/s]\n"
     ]
    },
    {
     "output_type": "stream",
     "name": "stdout",
     "text": [
      "val_loss- 3023.306640625 \n",
      "epoch [2] - val_avg_loss: 3023.306640625\n",
      "3043.141357421875\n",
      "save best\n",
      "3\n"
     ]
    },
    {
     "output_type": "stream",
     "name": "stderr",
     "text": [
      "100%|██████████| 5/5 [00:04<00:00,  1.00it/s]\n"
     ]
    },
    {
     "output_type": "stream",
     "name": "stdout",
     "text": [
      "14414.92333984375 4\n",
      "epoch [3] - train_avg_loss: 2882.98466796875\n"
     ]
    },
    {
     "output_type": "stream",
     "name": "stderr",
     "text": [
      "100%|██████████| 1/1 [00:00<00:00,  1.11it/s]\n"
     ]
    },
    {
     "output_type": "stream",
     "name": "stdout",
     "text": [
      "val_loss- 2994.96875 \n",
      "epoch [3] - val_avg_loss: 2994.96875\n",
      "3023.306640625\n",
      "save best\n",
      "4\n"
     ]
    },
    {
     "output_type": "stream",
     "name": "stderr",
     "text": [
      "100%|██████████| 5/5 [00:04<00:00,  1.01it/s]\n"
     ]
    },
    {
     "output_type": "stream",
     "name": "stdout",
     "text": [
      "14122.929931640625 4\n",
      "epoch [4] - train_avg_loss: 2824.585986328125\n"
     ]
    },
    {
     "output_type": "stream",
     "name": "stderr",
     "text": [
      "100%|██████████| 1/1 [00:00<00:00,  1.00it/s]\n"
     ]
    },
    {
     "output_type": "stream",
     "name": "stdout",
     "text": [
      "val_loss- 2958.566162109375 \n",
      "epoch [4] - val_avg_loss: 2958.566162109375\n",
      "2994.96875\n",
      "save best\n",
      "5\n"
     ]
    },
    {
     "output_type": "stream",
     "name": "stderr",
     "text": [
      "100%|██████████| 5/5 [00:04<00:00,  1.01it/s]\n"
     ]
    },
    {
     "output_type": "stream",
     "name": "stdout",
     "text": [
      "14021.136962890625 4\n",
      "epoch [5] - train_avg_loss: 2804.227392578125\n"
     ]
    },
    {
     "output_type": "stream",
     "name": "stderr",
     "text": [
      "100%|██████████| 1/1 [00:00<00:00,  2.24it/s]"
     ]
    },
    {
     "output_type": "stream",
     "name": "stdout",
     "text": [
      "val_loss- 2890.425537109375 \n"
     ]
    },
    {
     "output_type": "stream",
     "name": "stderr",
     "text": [
      "\r100%|██████████| 1/1 [00:01<00:00,  1.02s/it]\n"
     ]
    },
    {
     "output_type": "stream",
     "name": "stdout",
     "text": [
      "epoch [5] - val_avg_loss: 2890.425537109375\n",
      "2958.566162109375\n",
      "save best\n",
      "save epoch\n",
      "6\n"
     ]
    },
    {
     "output_type": "stream",
     "name": "stderr",
     "text": [
      "100%|██████████| 5/5 [00:04<00:00,  1.01it/s]\n"
     ]
    },
    {
     "output_type": "stream",
     "name": "stdout",
     "text": [
      "13566.24365234375 4\n",
      "epoch [6] - train_avg_loss: 2713.24873046875\n"
     ]
    },
    {
     "output_type": "stream",
     "name": "stderr",
     "text": [
      "100%|██████████| 1/1 [00:00<00:00,  1.14it/s]\n"
     ]
    },
    {
     "output_type": "stream",
     "name": "stdout",
     "text": [
      "val_loss- 2755.8046875 \n",
      "epoch [6] - val_avg_loss: 2755.8046875\n",
      "2890.425537109375\n",
      "save best\n",
      "7\n"
     ]
    },
    {
     "output_type": "stream",
     "name": "stderr",
     "text": [
      "100%|██████████| 5/5 [00:04<00:00,  1.02it/s]\n"
     ]
    },
    {
     "output_type": "stream",
     "name": "stdout",
     "text": [
      "12757.285400390625 4\n",
      "epoch [7] - train_avg_loss: 2551.457080078125\n"
     ]
    },
    {
     "output_type": "stream",
     "name": "stderr",
     "text": [
      "100%|██████████| 1/1 [00:01<00:00,  1.01s/it]\n"
     ]
    },
    {
     "output_type": "stream",
     "name": "stdout",
     "text": [
      "val_loss- 2538.94384765625 \n",
      "epoch [7] - val_avg_loss: 2538.94384765625\n",
      "2755.8046875\n",
      "save best\n",
      "8\n"
     ]
    },
    {
     "output_type": "stream",
     "name": "stderr",
     "text": [
      "100%|██████████| 5/5 [00:04<00:00,  1.01it/s]\n"
     ]
    },
    {
     "output_type": "stream",
     "name": "stdout",
     "text": [
      "11618.86474609375 4\n",
      "epoch [8] - train_avg_loss: 2323.77294921875\n"
     ]
    },
    {
     "output_type": "stream",
     "name": "stderr",
     "text": [
      "100%|██████████| 1/1 [00:00<00:00,  1.02it/s]\n"
     ]
    },
    {
     "output_type": "stream",
     "name": "stdout",
     "text": [
      "val_loss- 2171.506103515625 \n",
      "epoch [8] - val_avg_loss: 2171.506103515625\n",
      "2538.94384765625\n",
      "save best\n",
      "9\n"
     ]
    },
    {
     "output_type": "stream",
     "name": "stderr",
     "text": [
      "100%|██████████| 5/5 [00:04<00:00,  1.02it/s]\n"
     ]
    },
    {
     "output_type": "stream",
     "name": "stdout",
     "text": [
      "9400.784790039062 4\n",
      "epoch [9] - train_avg_loss: 1880.1569580078126\n"
     ]
    },
    {
     "output_type": "stream",
     "name": "stderr",
     "text": [
      "100%|██████████| 1/1 [00:01<00:00,  1.06s/it]\n"
     ]
    },
    {
     "output_type": "stream",
     "name": "stdout",
     "text": [
      "val_loss- 1627.6126708984375 \n",
      "epoch [9] - val_avg_loss: 1627.6126708984375\n",
      "2171.506103515625\n",
      "save best\n",
      "10\n"
     ]
    },
    {
     "output_type": "stream",
     "name": "stderr",
     "text": [
      "100%|██████████| 5/5 [00:04<00:00,  1.01it/s]\n"
     ]
    },
    {
     "output_type": "stream",
     "name": "stdout",
     "text": [
      "6275.792236328125 4\n",
      "epoch [10] - train_avg_loss: 1255.158447265625\n"
     ]
    },
    {
     "output_type": "stream",
     "name": "stderr",
     "text": [
      "100%|██████████| 1/1 [00:00<00:00,  1.04it/s]\n"
     ]
    },
    {
     "output_type": "stream",
     "name": "stdout",
     "text": [
      "val_loss- 923.3267822265625 \n",
      "epoch [10] - val_avg_loss: 923.3267822265625\n",
      "1627.6126708984375\n",
      "save best\n",
      "save epoch\n",
      "11\n"
     ]
    },
    {
     "output_type": "stream",
     "name": "stderr",
     "text": [
      "100%|██████████| 5/5 [00:04<00:00,  1.01it/s]\n"
     ]
    },
    {
     "output_type": "stream",
     "name": "stdout",
     "text": [
      "3430.2401123046875 4\n",
      "epoch [11] - train_avg_loss: 686.0480224609375\n"
     ]
    },
    {
     "output_type": "stream",
     "name": "stderr",
     "text": [
      "100%|██████████| 1/1 [00:00<00:00,  1.06it/s]\n"
     ]
    },
    {
     "output_type": "stream",
     "name": "stdout",
     "text": [
      "val_loss- 728.388671875 \n",
      "epoch [11] - val_avg_loss: 728.388671875\n",
      "923.3267822265625\n",
      "save best\n",
      "12\n"
     ]
    },
    {
     "output_type": "stream",
     "name": "stderr",
     "text": [
      "100%|██████████| 5/5 [00:04<00:00,  1.01it/s]\n"
     ]
    },
    {
     "output_type": "stream",
     "name": "stdout",
     "text": [
      "4050.6256103515625 4\n",
      "epoch [12] - train_avg_loss: 810.1251220703125\n"
     ]
    },
    {
     "output_type": "stream",
     "name": "stderr",
     "text": [
      "100%|██████████| 1/1 [00:01<00:00,  1.02s/it]\n"
     ]
    },
    {
     "output_type": "stream",
     "name": "stdout",
     "text": [
      "val_loss- 688.4940185546875 \n",
      "epoch [12] - val_avg_loss: 688.4940185546875\n",
      "728.388671875\n",
      "save best\n",
      "13\n"
     ]
    },
    {
     "output_type": "stream",
     "name": "stderr",
     "text": [
      "100%|██████████| 5/5 [00:04<00:00,  1.17it/s]\n"
     ]
    },
    {
     "output_type": "stream",
     "name": "stdout",
     "text": [
      "2971.1324462890625 4\n",
      "epoch [13] - train_avg_loss: 594.2264892578125\n"
     ]
    },
    {
     "output_type": "stream",
     "name": "stderr",
     "text": [
      "100%|██████████| 1/1 [00:02<00:00,  2.51s/it]\n"
     ]
    },
    {
     "output_type": "stream",
     "name": "stdout",
     "text": [
      "val_loss- 665.4217529296875 \n",
      "epoch [13] - val_avg_loss: 665.4217529296875\n",
      "688.4940185546875\n",
      "save best\n",
      "14\n"
     ]
    },
    {
     "output_type": "stream",
     "name": "stderr",
     "text": [
      "100%|██████████| 5/5 [00:05<00:00,  1.00s/it]\n"
     ]
    },
    {
     "output_type": "stream",
     "name": "stdout",
     "text": [
      "3319.3917236328125 4\n",
      "epoch [14] - train_avg_loss: 663.8783447265625\n"
     ]
    },
    {
     "output_type": "stream",
     "name": "stderr",
     "text": [
      "100%|██████████| 1/1 [00:00<00:00,  2.38it/s]"
     ]
    },
    {
     "output_type": "stream",
     "name": "stdout",
     "text": [
      "val_loss- 640.7440795898438 \n"
     ]
    },
    {
     "output_type": "stream",
     "name": "stderr",
     "text": [
      "\r100%|██████████| 1/1 [00:01<00:00,  1.04s/it]\n"
     ]
    },
    {
     "output_type": "stream",
     "name": "stdout",
     "text": [
      "epoch [14] - val_avg_loss: 640.7440795898438\n",
      "665.4217529296875\n",
      "save best\n",
      "15\n"
     ]
    },
    {
     "output_type": "stream",
     "name": "stderr",
     "text": [
      "100%|██████████| 5/5 [00:04<00:00,  1.02it/s]\n"
     ]
    },
    {
     "output_type": "stream",
     "name": "stdout",
     "text": [
      "3256.5714416503906 4\n",
      "epoch [15] - train_avg_loss: 651.3142883300782\n"
     ]
    },
    {
     "output_type": "stream",
     "name": "stderr",
     "text": [
      "100%|██████████| 1/1 [00:00<00:00,  1.04it/s]\n"
     ]
    },
    {
     "output_type": "stream",
     "name": "stdout",
     "text": [
      "val_loss- 586.0580444335938 \n",
      "epoch [15] - val_avg_loss: 586.0580444335938\n",
      "640.7440795898438\n",
      "save best\n",
      "save epoch\n",
      "16\n"
     ]
    },
    {
     "output_type": "stream",
     "name": "stderr",
     "text": [
      "100%|██████████| 5/5 [00:04<00:00,  1.01it/s]\n"
     ]
    },
    {
     "output_type": "stream",
     "name": "stdout",
     "text": [
      "3353.9766845703125 4\n",
      "epoch [16] - train_avg_loss: 670.7953369140625\n"
     ]
    },
    {
     "output_type": "stream",
     "name": "stderr",
     "text": [
      "100%|██████████| 1/1 [00:00<00:00,  1.03it/s]\n"
     ]
    },
    {
     "output_type": "stream",
     "name": "stdout",
     "text": [
      "val_loss- 631.8798828125 \n",
      "epoch [16] - val_avg_loss: 631.8798828125\n",
      "586.0580444335938\n",
      "17\n"
     ]
    },
    {
     "output_type": "stream",
     "name": "stderr",
     "text": [
      "100%|██████████| 5/5 [00:04<00:00,  1.00it/s]\n"
     ]
    },
    {
     "output_type": "stream",
     "name": "stdout",
     "text": [
      "2892.8206787109375 4\n",
      "epoch [17] - train_avg_loss: 578.5641357421875\n"
     ]
    },
    {
     "output_type": "stream",
     "name": "stderr",
     "text": [
      "100%|██████████| 1/1 [00:01<00:00,  1.78s/it]\n"
     ]
    },
    {
     "output_type": "stream",
     "name": "stdout",
     "text": [
      "val_loss- 493.4519958496094 \n",
      "epoch [17] - val_avg_loss: 493.4519958496094\n",
      "586.0580444335938\n",
      "save best\n",
      "18\n"
     ]
    },
    {
     "output_type": "stream",
     "name": "stderr",
     "text": [
      "100%|██████████| 5/5 [00:02<00:00,  1.86it/s]\n"
     ]
    },
    {
     "output_type": "stream",
     "name": "stdout",
     "text": [
      "2820.9093322753906 4\n",
      "epoch [18] - train_avg_loss: 564.1818664550781\n"
     ]
    },
    {
     "output_type": "stream",
     "name": "stderr",
     "text": [
      "100%|██████████| 1/1 [00:01<00:00,  1.03s/it]\n"
     ]
    },
    {
     "output_type": "stream",
     "name": "stdout",
     "text": [
      "val_loss- 545.5800170898438 \n",
      "epoch [18] - val_avg_loss: 545.5800170898438\n",
      "493.4519958496094\n",
      "19\n"
     ]
    },
    {
     "output_type": "stream",
     "name": "stderr",
     "text": [
      "100%|██████████| 5/5 [00:04<00:00,  1.02it/s]\n"
     ]
    },
    {
     "output_type": "stream",
     "name": "stdout",
     "text": [
      "3088.1436767578125 4\n",
      "epoch [19] - train_avg_loss: 617.6287353515625\n"
     ]
    },
    {
     "output_type": "stream",
     "name": "stderr",
     "text": [
      "100%|██████████| 1/1 [00:00<00:00,  1.09it/s]"
     ]
    },
    {
     "output_type": "stream",
     "name": "stdout",
     "text": [
      "val_loss- 587.300048828125 \n",
      "epoch [19] - val_avg_loss: 587.300048828125\n",
      "493.4519958496094\n",
      "Finished Training\n"
     ]
    },
    {
     "output_type": "stream",
     "name": "stderr",
     "text": [
      "\n"
     ]
    }
   ],
   "source": [
    "from tqdm import tqdm\n",
    "\n",
    "\n",
    "device = torch.device('cuda:0' if torch.cuda.is_available() else 'cpu')\n",
    "validation_losses = []\n",
    "age_net = age_net.to(device, non_blocking=True)\n",
    "\n",
    "\n",
    "for epoch in range(20):  # loop over the dataset multiple times\n",
    "    print (epoch)\n",
    "    running_loss = 0.0\n",
    "    for i, data in enumerate(tqdm(train_dataloader_age, 0)):\n",
    "        # get the inputs; data is a list of [inputs, labels]\n",
    "        inputs, labels = data# next(iter(train_dataloader_age))\n",
    "        # print('Before-',inputs)\n",
    "        inputs = inputs.to(device, non_blocking=True, dtype=torch.float)\n",
    "        labels = labels.to(device, non_blocking=True, dtype=torch.float)\n",
    "        inputs = inputs.permute(0,2,1)\n",
    "        # print('Aftre-',inputs)\n",
    "\n",
    "        # zero the parameter gradients\n",
    "        optimizer_age.zero_grad()\n",
    "\n",
    "        # forward + backward + optimize\n",
    "        outputs = age_net(inputs)\n",
    "        # outputs[labels.isnan()]=0\n",
    "        # labels[labels.isnan()]=0\n",
    "        loss = criterion_age(outputs, labels)\n",
    "        print('batch - {},loss -{}'.format(i,loss.item()))\n",
    "        loss.backward()\n",
    "        optimizer_age.step()\n",
    "\n",
    "        # print statistics\n",
    "        running_loss += loss.item()\n",
    "\n",
    "    print(running_loss,i)\n",
    "    print(f'epoch [{epoch}] - train_avg_loss: {running_loss / (i+1)}')\n",
    "    writer.add_scalar(\"Train/Age_Loss\", running_loss / (i+1), epoch)   \n",
    "    training_log_age[\"epoch\"] = epoch\n",
    "    training_log_age[\"ave_loss\"] = running_loss / (i+1)\n",
    "    writeCSVLoggerFile(csvLoggerFile_path_train_age,training_log_age)\n",
    "    with torch.no_grad():\n",
    "            \n",
    "        age_net.eval()\n",
    "        val_loss = 0.0\n",
    "\n",
    "        for i, val_data in enumerate(tqdm(val_dataloader_age,0)):\n",
    "\n",
    "            inputs, labels = val_data\n",
    "            inputs = inputs.to(device, non_blocking=True, dtype=torch.float)\n",
    "            labels = labels.to(device, non_blocking=True, dtype=torch.float)\n",
    "            inputs = inputs.permute(0,2,1)\n",
    "            outputs = age_net(inputs)\n",
    "            #print(labels, outputs)\n",
    "            loss = criterion_age(outputs, labels)\n",
    "            \n",
    "            print(\"val_loss- {} \".format(loss.item()))\n",
    "            val_loss += loss.item()\n",
    "\n",
    "        validation_losses.append(val_loss)  \n",
    "\n",
    "    print(f'epoch [{epoch }] - val_avg_loss: {val_loss / (i+1)}')\n",
    "    writer.add_scalar(\"Validation/Age_Loss\", val_loss / (i+1), epoch)\n",
    "    validaiting_log_age[\"epoch\"] = epoch\n",
    "    validaiting_log_age[\"ave_loss\"] = val_loss / (i+1)\n",
    "    writeCSVLoggerFile(csvLoggerFile_path_val_age,validaiting_log_age)\n",
    "    \n",
    "    if epoch == 0:\n",
    "        best_loss = val_loss\n",
    "    print(best_loss)\n",
    "    # save best model\n",
    "    if epoch > 0  and validation_losses[-1] < best_loss:\n",
    "        best_loss = validation_losses[-1]    \n",
    "        print('save best')\n",
    "        torch.save({\n",
    "            'age_net': age_net.state_dict(),\n",
    "            'optimizer_age': optimizer_age.state_dict(),\n",
    "            'epoch': epoch+1},\n",
    "            os.path.join(result_dir,'Saved_age','Best_model_save', f\"AgeNet.pth\"))              \n",
    "\n",
    "    # save each % epoch \n",
    "    if epoch > 0  and epoch % save_each == 0:\n",
    "        print('save epoch')\n",
    "        torch.save({\n",
    "            'age_net': age_net.state_dict(),\n",
    "            'optimizer_age': optimizer_age.state_dict(),\n",
    "            'epoch': epoch+1},\n",
    "            os.path.join(result_dir,'Saved_age','Periodic_save', f\"AgeNet.pth\"))\n",
    "        \n",
    "torch.cuda.empty_cache()   \n",
    "print('Finished Training')\n"
   ]
  },
  {
   "cell_type": "code",
   "execution_count": null,
   "metadata": {
    "id": "7gyHi2ScPDdk"
   },
   "outputs": [],
   "source": [
    ""
   ]
  },
  {
   "cell_type": "code",
   "execution_count": null,
   "metadata": {
    "id": "cb2tXp1KZboP",
    "colab": {
     "base_uri": "https://localhost:8080/"
    },
    "outputId": "e2c31b43-1f1c-4ac0-e36f-17f384bac66f"
   },
   "outputs": [
    {
     "output_type": "stream",
     "name": "stderr",
     "text": [
      " 10%|▉         | 2/21 [00:02<00:22,  1.18s/it]"
     ]
    },
    {
     "output_type": "stream",
     "name": "stdout",
     "text": [
      "batch - 0,loss -0.6902313232421875\n",
      "batch - 1,loss -0.680449366569519\n"
     ]
    },
    {
     "output_type": "stream",
     "name": "stderr",
     "text": [
      " 19%|█▉        | 4/21 [00:02<00:07,  2.15it/s]"
     ]
    },
    {
     "output_type": "stream",
     "name": "stdout",
     "text": [
      "batch - 2,loss -0.7361741662025452\n",
      "batch - 3,loss -0.6873008012771606\n"
     ]
    },
    {
     "output_type": "stream",
     "name": "stderr",
     "text": [
      " 29%|██▊       | 6/21 [00:02<00:03,  3.79it/s]"
     ]
    },
    {
     "output_type": "stream",
     "name": "stdout",
     "text": [
      "batch - 4,loss -0.7366571426391602\n",
      "batch - 5,loss -0.8606868982315063\n"
     ]
    },
    {
     "output_type": "stream",
     "name": "stderr",
     "text": [
      " 38%|███▊      | 8/21 [00:02<00:02,  5.47it/s]"
     ]
    },
    {
     "output_type": "stream",
     "name": "stdout",
     "text": [
      "batch - 6,loss -0.6394740343093872\n",
      "batch - 7,loss -0.6947238445281982\n"
     ]
    },
    {
     "output_type": "stream",
     "name": "stderr",
     "text": [
      " 48%|████▊     | 10/21 [00:02<00:01,  6.81it/s]"
     ]
    },
    {
     "output_type": "stream",
     "name": "stdout",
     "text": [
      "batch - 8,loss -0.668652355670929\n",
      "batch - 9,loss -0.6490151286125183\n"
     ]
    },
    {
     "output_type": "stream",
     "name": "stderr",
     "text": [
      " 57%|█████▋    | 12/21 [00:03<00:01,  7.57it/s]"
     ]
    },
    {
     "output_type": "stream",
     "name": "stdout",
     "text": [
      "batch - 10,loss -0.7288497090339661\n",
      "batch - 11,loss -0.7999418377876282\n"
     ]
    },
    {
     "output_type": "stream",
     "name": "stderr",
     "text": [
      " 67%|██████▋   | 14/21 [00:03<00:00,  7.96it/s]"
     ]
    },
    {
     "output_type": "stream",
     "name": "stdout",
     "text": [
      "batch - 12,loss -0.6706569194793701\n",
      "batch - 13,loss -0.6916065812110901\n"
     ]
    },
    {
     "output_type": "stream",
     "name": "stderr",
     "text": [
      "\r 71%|███████▏  | 15/21 [00:03<00:00,  8.19it/s]"
     ]
    },
    {
     "output_type": "stream",
     "name": "stdout",
     "text": [
      "batch - 14,loss -0.659019947052002\n"
     ]
    },
    {
     "output_type": "stream",
     "name": "stderr",
     "text": [
      " 86%|████████▌ | 18/21 [00:05<00:01,  2.47it/s]"
     ]
    },
    {
     "output_type": "stream",
     "name": "stdout",
     "text": [
      "batch - 15,loss -0.6730308532714844\n",
      "batch - 16,loss -0.747556209564209\n",
      "batch - 17,loss -0.734870433807373\n"
     ]
    },
    {
     "output_type": "stream",
     "name": "stderr",
     "text": [
      " 95%|█████████▌| 20/21 [00:05<00:00,  3.88it/s]"
     ]
    },
    {
     "output_type": "stream",
     "name": "stdout",
     "text": [
      "batch - 18,loss -0.6357005834579468\n",
      "batch - 19,loss -0.7479658126831055\n"
     ]
    },
    {
     "output_type": "stream",
     "name": "stderr",
     "text": [
      "100%|██████████| 21/21 [00:05<00:00,  3.73it/s]\n"
     ]
    },
    {
     "output_type": "stream",
     "name": "stdout",
     "text": [
      "batch - 20,loss -0.7052916884422302\n",
      "14.837855637073517 20\n",
      "epoch [1] - train_avg_loss: 0.706564554146358\n"
     ]
    },
    {
     "output_type": "stream",
     "name": "stderr",
     "text": [
      " 20%|██        | 1/5 [00:00<00:00,  8.74it/s]"
     ]
    },
    {
     "output_type": "stream",
     "name": "stdout",
     "text": [
      "0.7696510553359985\n"
     ]
    },
    {
     "output_type": "stream",
     "name": "stderr",
     "text": [
      "\r 40%|████      | 2/5 [00:00<00:01,  2.87it/s]"
     ]
    },
    {
     "output_type": "stream",
     "name": "stdout",
     "text": [
      "0.6748113632202148\n"
     ]
    },
    {
     "output_type": "stream",
     "name": "stderr",
     "text": [
      "\r 60%|██████    | 3/5 [00:00<00:00,  4.16it/s]"
     ]
    },
    {
     "output_type": "stream",
     "name": "stdout",
     "text": [
      "0.7462599277496338\n"
     ]
    },
    {
     "output_type": "stream",
     "name": "stderr",
     "text": [
      "\r 80%|████████  | 4/5 [00:00<00:00,  5.32it/s]"
     ]
    },
    {
     "output_type": "stream",
     "name": "stdout",
     "text": [
      "0.6929731369018555\n"
     ]
    },
    {
     "output_type": "stream",
     "name": "stderr",
     "text": [
      "100%|██████████| 5/5 [00:00<00:00,  5.27it/s]\n"
     ]
    },
    {
     "output_type": "stream",
     "name": "stdout",
     "text": [
      "0.7105846405029297\n",
      "epoch [0] - val_avg_loss: 0.7188560247421265\n"
     ]
    },
    {
     "output_type": "stream",
     "name": "stderr",
     "text": [
      "  5%|▍         | 1/21 [00:00<00:02,  8.75it/s]"
     ]
    },
    {
     "output_type": "stream",
     "name": "stdout",
     "text": [
      "batch - 0,loss -0.7333211898803711\n"
     ]
    },
    {
     "output_type": "stream",
     "name": "stderr",
     "text": [
      "\r 10%|▉         | 2/21 [00:00<00:02,  8.87it/s]"
     ]
    },
    {
     "output_type": "stream",
     "name": "stdout",
     "text": [
      "batch - 1,loss -0.6787900328636169\n"
     ]
    },
    {
     "output_type": "stream",
     "name": "stderr",
     "text": [
      "\r 14%|█▍        | 3/21 [00:00<00:02,  8.34it/s]"
     ]
    },
    {
     "output_type": "stream",
     "name": "stdout",
     "text": [
      "batch - 2,loss -0.7031160593032837\n"
     ]
    },
    {
     "output_type": "stream",
     "name": "stderr",
     "text": [
      " 29%|██▊       | 6/21 [00:02<00:09,  1.65it/s]"
     ]
    },
    {
     "output_type": "stream",
     "name": "stdout",
     "text": [
      "batch - 3,loss -0.6921621561050415\n",
      "batch - 4,loss -0.6591712236404419\n",
      "batch - 5,loss -0.6957604885101318\n"
     ]
    },
    {
     "output_type": "stream",
     "name": "stderr",
     "text": [
      " 38%|███▊      | 8/21 [00:04<00:10,  1.26it/s]"
     ]
    },
    {
     "output_type": "stream",
     "name": "stdout",
     "text": [
      "batch - 6,loss -0.702171266078949\n",
      "batch - 7,loss -0.7507555484771729\n"
     ]
    },
    {
     "output_type": "stream",
     "name": "stderr",
     "text": [
      " 48%|████▊     | 10/21 [00:05<00:07,  1.44it/s]"
     ]
    },
    {
     "output_type": "stream",
     "name": "stdout",
     "text": [
      "batch - 8,loss -0.6831157803535461\n",
      "batch - 9,loss -0.7300820350646973\n"
     ]
    },
    {
     "output_type": "stream",
     "name": "stderr",
     "text": [
      "\r 52%|█████▏    | 11/21 [00:06<00:05,  1.70it/s]"
     ]
    },
    {
     "output_type": "stream",
     "name": "stdout",
     "text": [
      "batch - 10,loss -0.6453123688697815\n"
     ]
    },
    {
     "output_type": "stream",
     "name": "stderr",
     "text": [
      " 62%|██████▏   | 13/21 [00:07<00:05,  1.53it/s]"
     ]
    },
    {
     "output_type": "stream",
     "name": "stdout",
     "text": [
      "batch - 11,loss -0.6140064001083374\n",
      "batch - 12,loss -0.6054840087890625\n"
     ]
    },
    {
     "output_type": "stream",
     "name": "stderr",
     "text": [
      " 71%|███████▏  | 15/21 [00:09<00:04,  1.23it/s]"
     ]
    },
    {
     "output_type": "stream",
     "name": "stdout",
     "text": [
      "batch - 13,loss -0.7379186153411865\n",
      "batch - 14,loss -0.7534892559051514\n"
     ]
    },
    {
     "output_type": "stream",
     "name": "stderr",
     "text": [
      " 81%|████████  | 17/21 [00:11<00:03,  1.06it/s]"
     ]
    },
    {
     "output_type": "stream",
     "name": "stdout",
     "text": [
      "batch - 15,loss -0.6772928833961487\n",
      "batch - 16,loss -0.8096721172332764\n"
     ]
    },
    {
     "output_type": "stream",
     "name": "stderr",
     "text": [
      " 90%|█████████ | 19/21 [00:13<00:01,  1.03it/s]"
     ]
    },
    {
     "output_type": "stream",
     "name": "stdout",
     "text": [
      "batch - 17,loss -0.7329548001289368\n",
      "batch - 18,loss -0.6963465213775635\n"
     ]
    },
    {
     "output_type": "stream",
     "name": "stderr",
     "text": [
      "100%|██████████| 21/21 [00:15<00:00,  1.03it/s]"
     ]
    },
    {
     "output_type": "stream",
     "name": "stdout",
     "text": [
      "batch - 19,loss -0.7268555760383606\n",
      "batch - 20,loss -0.7600266933441162\n"
     ]
    },
    {
     "output_type": "stream",
     "name": "stderr",
     "text": [
      "\r100%|██████████| 21/21 [00:16<00:00,  1.28it/s]\n"
     ]
    },
    {
     "output_type": "stream",
     "name": "stdout",
     "text": [
      "14.787805020809174 20\n",
      "epoch [2] - train_avg_loss: 0.7041811914671035\n"
     ]
    },
    {
     "output_type": "stream",
     "name": "stderr",
     "text": [
      " 20%|██        | 1/5 [00:00<00:00,  8.38it/s]"
     ]
    },
    {
     "output_type": "stream",
     "name": "stdout",
     "text": [
      "0.7448784112930298\n"
     ]
    },
    {
     "output_type": "stream",
     "name": "stderr",
     "text": [
      "\r 40%|████      | 2/5 [00:01<00:01,  1.68it/s]"
     ]
    },
    {
     "output_type": "stream",
     "name": "stdout",
     "text": [
      "0.7484312653541565\n"
     ]
    },
    {
     "output_type": "stream",
     "name": "stderr",
     "text": [
      "\r 60%|██████    | 3/5 [00:02<00:01,  1.26it/s]"
     ]
    },
    {
     "output_type": "stream",
     "name": "stdout",
     "text": [
      "0.762656033039093\n"
     ]
    },
    {
     "output_type": "stream",
     "name": "stderr",
     "text": [
      "\r 80%|████████  | 4/5 [00:02<00:00,  1.19it/s]"
     ]
    },
    {
     "output_type": "stream",
     "name": "stdout",
     "text": [
      "0.708532452583313\n"
     ]
    },
    {
     "output_type": "stream",
     "name": "stderr",
     "text": [
      "\r100%|██████████| 5/5 [00:04<00:00,  1.09it/s]"
     ]
    },
    {
     "output_type": "stream",
     "name": "stdout",
     "text": [
      "0.6694746017456055\n"
     ]
    },
    {
     "output_type": "stream",
     "name": "stderr",
     "text": [
      "\r100%|██████████| 5/5 [00:04<00:00,  1.01it/s]\n"
     ]
    },
    {
     "output_type": "stream",
     "name": "stdout",
     "text": [
      "epoch [1] - val_avg_loss: 0.7267945528030395\n"
     ]
    },
    {
     "output_type": "stream",
     "name": "stderr",
     "text": [
      "  5%|▍         | 1/21 [00:00<00:02,  7.89it/s]"
     ]
    },
    {
     "output_type": "stream",
     "name": "stdout",
     "text": [
      "batch - 0,loss -0.7221104502677917\n"
     ]
    },
    {
     "output_type": "stream",
     "name": "stderr",
     "text": [
      "\r 10%|▉         | 2/21 [00:01<00:11,  1.71it/s]"
     ]
    },
    {
     "output_type": "stream",
     "name": "stdout",
     "text": [
      "batch - 1,loss -0.7215721607208252\n"
     ]
    },
    {
     "output_type": "stream",
     "name": "stderr",
     "text": [
      "\r 14%|█▍        | 3/21 [00:02<00:14,  1.26it/s]"
     ]
    },
    {
     "output_type": "stream",
     "name": "stdout",
     "text": [
      "batch - 2,loss -0.723217248916626\n"
     ]
    },
    {
     "output_type": "stream",
     "name": "stderr",
     "text": [
      "\r 19%|█▉        | 4/21 [00:03<00:14,  1.18it/s]"
     ]
    },
    {
     "output_type": "stream",
     "name": "stdout",
     "text": [
      "batch - 3,loss -0.7065033316612244\n"
     ]
    },
    {
     "output_type": "stream",
     "name": "stderr",
     "text": [
      "\r 24%|██▍       | 5/21 [00:04<00:14,  1.08it/s]"
     ]
    },
    {
     "output_type": "stream",
     "name": "stdout",
     "text": [
      "batch - 4,loss -0.6915014982223511\n"
     ]
    },
    {
     "output_type": "stream",
     "name": "stderr",
     "text": [
      "\r 29%|██▊       | 6/21 [00:05<00:15,  1.04s/it]"
     ]
    },
    {
     "output_type": "stream",
     "name": "stdout",
     "text": [
      "batch - 5,loss -0.6793462038040161\n"
     ]
    },
    {
     "output_type": "stream",
     "name": "stderr",
     "text": [
      "\r 33%|███▎      | 7/21 [00:05<00:10,  1.33it/s]"
     ]
    },
    {
     "output_type": "stream",
     "name": "stdout",
     "text": [
      "batch - 6,loss -0.7456299662590027\n"
     ]
    },
    {
     "output_type": "stream",
     "name": "stderr",
     "text": [
      "\r 38%|███▊      | 8/21 [00:05<00:07,  1.78it/s]"
     ]
    },
    {
     "output_type": "stream",
     "name": "stdout",
     "text": [
      "batch - 7,loss -0.7320247888565063\n"
     ]
    },
    {
     "output_type": "stream",
     "name": "stderr",
     "text": [
      "\r 43%|████▎     | 9/21 [00:05<00:05,  2.30it/s]"
     ]
    },
    {
     "output_type": "stream",
     "name": "stdout",
     "text": [
      "batch - 8,loss -0.7069040536880493\n"
     ]
    },
    {
     "output_type": "stream",
     "name": "stderr",
     "text": [
      " 52%|█████▏    | 11/21 [00:07<00:06,  1.62it/s]"
     ]
    },
    {
     "output_type": "stream",
     "name": "stdout",
     "text": [
      "batch - 9,loss -0.7073347568511963\n",
      "batch - 10,loss -0.6962615847587585\n"
     ]
    },
    {
     "output_type": "stream",
     "name": "stderr",
     "text": [
      "\r 57%|█████▋    | 12/21 [00:08<00:06,  1.43it/s]"
     ]
    },
    {
     "output_type": "stream",
     "name": "stdout",
     "text": [
      "batch - 11,loss -0.7181062698364258\n"
     ]
    },
    {
     "output_type": "stream",
     "name": "stderr",
     "text": [
      "\r 62%|██████▏   | 13/21 [00:09<00:06,  1.24it/s]"
     ]
    },
    {
     "output_type": "stream",
     "name": "stdout",
     "text": [
      "batch - 12,loss -0.6869989633560181\n"
     ]
    },
    {
     "output_type": "stream",
     "name": "stderr",
     "text": [
      "\r 67%|██████▋   | 14/21 [00:10<00:05,  1.18it/s]"
     ]
    },
    {
     "output_type": "stream",
     "name": "stdout",
     "text": [
      "batch - 13,loss -0.6912732720375061\n"
     ]
    },
    {
     "output_type": "stream",
     "name": "stderr",
     "text": [
      "\r 71%|███████▏  | 15/21 [00:11<00:05,  1.09it/s]"
     ]
    },
    {
     "output_type": "stream",
     "name": "stdout",
     "text": [
      "batch - 14,loss -0.6502270698547363\n"
     ]
    },
    {
     "output_type": "stream",
     "name": "stderr",
     "text": [
      "\r 76%|███████▌  | 16/21 [00:12<00:04,  1.10it/s]"
     ]
    },
    {
     "output_type": "stream",
     "name": "stdout",
     "text": [
      "batch - 15,loss -0.693399965763092\n"
     ]
    },
    {
     "output_type": "stream",
     "name": "stderr",
     "text": [
      "\r 81%|████████  | 17/21 [00:13<00:03,  1.04it/s]"
     ]
    },
    {
     "output_type": "stream",
     "name": "stdout",
     "text": [
      "batch - 16,loss -0.7066077589988708\n"
     ]
    },
    {
     "output_type": "stream",
     "name": "stderr",
     "text": [
      "\r 86%|████████▌ | 18/21 [00:14<00:02,  1.05it/s]"
     ]
    },
    {
     "output_type": "stream",
     "name": "stdout",
     "text": [
      "batch - 17,loss -0.7208887338638306\n"
     ]
    },
    {
     "output_type": "stream",
     "name": "stderr",
     "text": [
      "\r 90%|█████████ | 19/21 [00:15<00:01,  1.02it/s]"
     ]
    },
    {
     "output_type": "stream",
     "name": "stdout",
     "text": [
      "batch - 18,loss -0.7569791078567505\n"
     ]
    },
    {
     "output_type": "stream",
     "name": "stderr",
     "text": [
      "\r 95%|█████████▌| 20/21 [00:16<00:00,  1.03it/s]"
     ]
    },
    {
     "output_type": "stream",
     "name": "stdout",
     "text": [
      "batch - 19,loss -0.7003672122955322\n"
     ]
    },
    {
     "output_type": "stream",
     "name": "stderr",
     "text": [
      "\r100%|██████████| 21/21 [00:17<00:00,  1.02it/s]"
     ]
    },
    {
     "output_type": "stream",
     "name": "stdout",
     "text": [
      "batch - 20,loss -0.7163786292076111\n"
     ]
    },
    {
     "output_type": "stream",
     "name": "stderr",
     "text": [
      "\r100%|██████████| 21/21 [00:17<00:00,  1.17it/s]\n"
     ]
    },
    {
     "output_type": "stream",
     "name": "stdout",
     "text": [
      "14.873633027076721 20\n",
      "epoch [3] - train_avg_loss: 0.7082682393846058\n"
     ]
    },
    {
     "output_type": "stream",
     "name": "stderr",
     "text": [
      " 20%|██        | 1/5 [00:00<00:00,  8.53it/s]"
     ]
    },
    {
     "output_type": "stream",
     "name": "stdout",
     "text": [
      "0.6646719574928284\n"
     ]
    },
    {
     "output_type": "stream",
     "name": "stderr",
     "text": [
      "\r 40%|████      | 2/5 [00:01<00:01,  1.54it/s]"
     ]
    },
    {
     "output_type": "stream",
     "name": "stdout",
     "text": [
      "0.713982343673706\n"
     ]
    },
    {
     "output_type": "stream",
     "name": "stderr",
     "text": [
      "\r 60%|██████    | 3/5 [00:02<00:01,  1.27it/s]"
     ]
    },
    {
     "output_type": "stream",
     "name": "stdout",
     "text": [
      "0.6846611499786377\n"
     ]
    },
    {
     "output_type": "stream",
     "name": "stderr",
     "text": [
      "\r 80%|████████  | 4/5 [00:03<00:00,  1.12it/s]"
     ]
    },
    {
     "output_type": "stream",
     "name": "stdout",
     "text": [
      "0.6993793249130249\n"
     ]
    },
    {
     "output_type": "stream",
     "name": "stderr",
     "text": [
      "\r100%|██████████| 5/5 [00:04<00:00,  1.09it/s]"
     ]
    },
    {
     "output_type": "stream",
     "name": "stdout",
     "text": [
      "0.7052469253540039\n"
     ]
    },
    {
     "output_type": "stream",
     "name": "stderr",
     "text": [
      "\r100%|██████████| 5/5 [00:04<00:00,  1.00it/s]\n"
     ]
    },
    {
     "output_type": "stream",
     "name": "stdout",
     "text": [
      "epoch [2] - val_avg_loss: 0.6935883402824402\n",
      "save best\n"
     ]
    },
    {
     "output_type": "stream",
     "name": "stderr",
     "text": [
      " 10%|▉         | 2/21 [00:00<00:02,  8.41it/s]"
     ]
    },
    {
     "output_type": "stream",
     "name": "stdout",
     "text": [
      "batch - 0,loss -0.7073226571083069\n",
      "batch - 1,loss -0.714037299156189\n"
     ]
    },
    {
     "output_type": "stream",
     "name": "stderr",
     "text": [
      " 19%|█▉        | 4/21 [00:00<00:01,  8.61it/s]"
     ]
    },
    {
     "output_type": "stream",
     "name": "stdout",
     "text": [
      "batch - 2,loss -0.6688166856765747\n",
      "batch - 3,loss -0.6953039169311523\n"
     ]
    },
    {
     "output_type": "stream",
     "name": "stderr",
     "text": [
      " 29%|██▊       | 6/21 [00:00<00:01,  8.48it/s]"
     ]
    },
    {
     "output_type": "stream",
     "name": "stdout",
     "text": [
      "batch - 4,loss -0.694369375705719\n",
      "batch - 5,loss -0.7328042387962341\n"
     ]
    },
    {
     "output_type": "stream",
     "name": "stderr",
     "text": [
      "\r 33%|███▎      | 7/21 [00:00<00:01,  8.50it/s]"
     ]
    },
    {
     "output_type": "stream",
     "name": "stdout",
     "text": [
      "batch - 6,loss -0.7875970602035522\n"
     ]
    },
    {
     "output_type": "stream",
     "name": "stderr",
     "text": [
      " 48%|████▊     | 10/21 [00:02<00:06,  1.69it/s]"
     ]
    },
    {
     "output_type": "stream",
     "name": "stdout",
     "text": [
      "batch - 7,loss -0.6778604984283447\n",
      "batch - 8,loss -0.7068843841552734\n",
      "batch - 9,loss -0.6858683228492737\n"
     ]
    },
    {
     "output_type": "stream",
     "name": "stderr",
     "text": [
      " 57%|█████▋    | 12/21 [00:05<00:07,  1.24it/s]"
     ]
    },
    {
     "output_type": "stream",
     "name": "stdout",
     "text": [
      "batch - 10,loss -0.698906660079956\n",
      "batch - 11,loss -0.7330378293991089\n"
     ]
    },
    {
     "output_type": "stream",
     "name": "stderr",
     "text": [
      " 67%|██████▋   | 14/21 [00:06<00:06,  1.14it/s]"
     ]
    },
    {
     "output_type": "stream",
     "name": "stdout",
     "text": [
      "batch - 12,loss -0.7047370672225952\n",
      "batch - 13,loss -0.6572930812835693\n"
     ]
    },
    {
     "output_type": "stream",
     "name": "stderr",
     "text": [
      " 76%|███████▌  | 16/21 [00:09<00:04,  1.04it/s]"
     ]
    },
    {
     "output_type": "stream",
     "name": "stdout",
     "text": [
      "batch - 14,loss -0.6772289276123047\n",
      "batch - 15,loss -0.7107906341552734\n"
     ]
    },
    {
     "output_type": "stream",
     "name": "stderr",
     "text": [
      " 86%|████████▌ | 18/21 [00:11<00:02,  1.02it/s]"
     ]
    },
    {
     "output_type": "stream",
     "name": "stdout",
     "text": [
      "batch - 16,loss -0.7143515944480896\n",
      "batch - 17,loss -0.7208733558654785\n"
     ]
    },
    {
     "output_type": "stream",
     "name": "stderr",
     "text": [
      " 95%|█████████▌| 20/21 [00:13<00:00,  1.01it/s]"
     ]
    },
    {
     "output_type": "stream",
     "name": "stdout",
     "text": [
      "batch - 18,loss -0.6918467879295349\n",
      "batch - 19,loss -0.6994500160217285\n"
     ]
    },
    {
     "output_type": "stream",
     "name": "stderr",
     "text": [
      "100%|██████████| 21/21 [00:14<00:00,  1.41it/s]\n"
     ]
    },
    {
     "output_type": "stream",
     "name": "stdout",
     "text": [
      "batch - 20,loss -0.6843581199645996\n",
      "14.763738512992859 20\n",
      "epoch [4] - train_avg_loss: 0.7030351672853742\n"
     ]
    },
    {
     "output_type": "stream",
     "name": "stderr",
     "text": [
      " 20%|██        | 1/5 [00:00<00:00,  8.38it/s]"
     ]
    },
    {
     "output_type": "stream",
     "name": "stdout",
     "text": [
      "0.7419013977050781\n"
     ]
    },
    {
     "output_type": "stream",
     "name": "stderr",
     "text": [
      "\r 40%|████      | 2/5 [00:01<00:01,  1.55it/s]"
     ]
    },
    {
     "output_type": "stream",
     "name": "stdout",
     "text": [
      "0.7243406772613525\n"
     ]
    },
    {
     "output_type": "stream",
     "name": "stderr",
     "text": [
      "\r 60%|██████    | 3/5 [00:02<00:01,  1.27it/s]"
     ]
    },
    {
     "output_type": "stream",
     "name": "stdout",
     "text": [
      "0.6856618523597717\n"
     ]
    },
    {
     "output_type": "stream",
     "name": "stderr",
     "text": [
      "\r 80%|████████  | 4/5 [00:03<00:00,  1.12it/s]"
     ]
    },
    {
     "output_type": "stream",
     "name": "stdout",
     "text": [
      "0.6861522197723389\n"
     ]
    },
    {
     "output_type": "stream",
     "name": "stderr",
     "text": [
      "\r100%|██████████| 5/5 [00:04<00:00,  1.09it/s]"
     ]
    },
    {
     "output_type": "stream",
     "name": "stdout",
     "text": [
      "0.7016317844390869\n"
     ]
    },
    {
     "output_type": "stream",
     "name": "stderr",
     "text": [
      "\r100%|██████████| 5/5 [00:04<00:00,  1.02it/s]\n"
     ]
    },
    {
     "output_type": "stream",
     "name": "stdout",
     "text": [
      "epoch [3] - val_avg_loss: 0.7079375863075257\n"
     ]
    },
    {
     "output_type": "stream",
     "name": "stderr",
     "text": [
      "  5%|▍         | 1/21 [00:00<00:02,  8.55it/s]"
     ]
    },
    {
     "output_type": "stream",
     "name": "stdout",
     "text": [
      "batch - 0,loss -0.7019429206848145\n"
     ]
    },
    {
     "output_type": "stream",
     "name": "stderr",
     "text": [
      "\r 10%|▉         | 2/21 [00:01<00:12,  1.55it/s]"
     ]
    },
    {
     "output_type": "stream",
     "name": "stdout",
     "text": [
      "batch - 1,loss -0.6782965660095215\n"
     ]
    },
    {
     "output_type": "stream",
     "name": "stderr",
     "text": [
      "\r 14%|█▍        | 3/21 [00:02<00:15,  1.18it/s]"
     ]
    },
    {
     "output_type": "stream",
     "name": "stdout",
     "text": [
      "batch - 2,loss -0.6743224859237671\n"
     ]
    },
    {
     "output_type": "stream",
     "name": "stderr",
     "text": [
      "\r 19%|█▉        | 4/21 [00:03<00:14,  1.14it/s]"
     ]
    },
    {
     "output_type": "stream",
     "name": "stdout",
     "text": [
      "batch - 3,loss -0.7158737778663635\n"
     ]
    },
    {
     "output_type": "stream",
     "name": "stderr",
     "text": [
      "\r 24%|██▍       | 5/21 [00:04<00:15,  1.07it/s]"
     ]
    },
    {
     "output_type": "stream",
     "name": "stdout",
     "text": [
      "batch - 4,loss -0.6720893383026123\n"
     ]
    },
    {
     "output_type": "stream",
     "name": "stderr",
     "text": [
      "\r 29%|██▊       | 6/21 [00:05<00:14,  1.06it/s]"
     ]
    },
    {
     "output_type": "stream",
     "name": "stdout",
     "text": [
      "batch - 5,loss -0.7281230688095093\n"
     ]
    },
    {
     "output_type": "stream",
     "name": "stderr",
     "text": [
      "\r 33%|███▎      | 7/21 [00:06<00:13,  1.03it/s]"
     ]
    },
    {
     "output_type": "stream",
     "name": "stdout",
     "text": [
      "batch - 6,loss -0.6955797672271729\n"
     ]
    },
    {
     "output_type": "stream",
     "name": "stderr",
     "text": [
      "\r 38%|███▊      | 8/21 [00:07<00:12,  1.06it/s]"
     ]
    },
    {
     "output_type": "stream",
     "name": "stdout",
     "text": [
      "batch - 7,loss -0.7161353826522827\n"
     ]
    },
    {
     "output_type": "stream",
     "name": "stderr",
     "text": [
      "\r 43%|████▎     | 9/21 [00:08<00:11,  1.02it/s]"
     ]
    },
    {
     "output_type": "stream",
     "name": "stdout",
     "text": [
      "batch - 8,loss -0.6290483474731445\n"
     ]
    },
    {
     "output_type": "stream",
     "name": "stderr",
     "text": [
      "\r 48%|████▊     | 10/21 [00:09<00:11,  1.01s/it]"
     ]
    },
    {
     "output_type": "stream",
     "name": "stdout",
     "text": [
      "batch - 9,loss -0.6521666049957275\n"
     ]
    },
    {
     "output_type": "stream",
     "name": "stderr",
     "text": [
      "\r 52%|█████▏    | 11/21 [00:10<00:09,  1.02it/s]"
     ]
    },
    {
     "output_type": "stream",
     "name": "stdout",
     "text": [
      "batch - 10,loss -0.7130879163742065\n"
     ]
    },
    {
     "output_type": "stream",
     "name": "stderr",
     "text": [
      "\r 57%|█████▋    | 12/21 [00:11<00:08,  1.01it/s]"
     ]
    },
    {
     "output_type": "stream",
     "name": "stdout",
     "text": [
      "batch - 11,loss -0.7120408415794373\n"
     ]
    },
    {
     "output_type": "stream",
     "name": "stderr",
     "text": [
      "\r 62%|██████▏   | 13/21 [00:12<00:08,  1.02s/it]"
     ]
    },
    {
     "output_type": "stream",
     "name": "stdout",
     "text": [
      "batch - 12,loss -0.7007899880409241\n"
     ]
    },
    {
     "output_type": "stream",
     "name": "stderr",
     "text": [
      "\r 67%|██████▋   | 14/21 [00:13<00:06,  1.02it/s]"
     ]
    },
    {
     "output_type": "stream",
     "name": "stdout",
     "text": [
      "batch - 13,loss -0.7467694282531738\n"
     ]
    },
    {
     "output_type": "stream",
     "name": "stderr",
     "text": [
      "\r 71%|███████▏  | 15/21 [00:14<00:05,  1.01it/s]"
     ]
    },
    {
     "output_type": "stream",
     "name": "stdout",
     "text": [
      "batch - 14,loss -0.7184942364692688\n"
     ]
    },
    {
     "output_type": "stream",
     "name": "stderr",
     "text": [
      "\r 76%|███████▌  | 16/21 [00:15<00:05,  1.02s/it]"
     ]
    },
    {
     "output_type": "stream",
     "name": "stdout",
     "text": [
      "batch - 15,loss -0.7387858629226685\n"
     ]
    },
    {
     "output_type": "stream",
     "name": "stderr",
     "text": [
      "\r 81%|████████  | 17/21 [00:16<00:03,  1.02it/s]"
     ]
    },
    {
     "output_type": "stream",
     "name": "stdout",
     "text": [
      "batch - 16,loss -0.642830491065979\n"
     ]
    },
    {
     "output_type": "stream",
     "name": "stderr",
     "text": [
      "\r 86%|████████▌ | 18/21 [00:17<00:03,  1.01s/it]"
     ]
    },
    {
     "output_type": "stream",
     "name": "stdout",
     "text": [
      "batch - 17,loss -0.7164629697799683\n"
     ]
    },
    {
     "output_type": "stream",
     "name": "stderr",
     "text": [
      "\r 90%|█████████ | 19/21 [00:18<00:01,  1.01it/s]"
     ]
    },
    {
     "output_type": "stream",
     "name": "stdout",
     "text": [
      "batch - 18,loss -0.6767380237579346\n"
     ]
    },
    {
     "output_type": "stream",
     "name": "stderr",
     "text": [
      "\r 95%|█████████▌| 20/21 [00:19<00:01,  1.01s/it]"
     ]
    },
    {
     "output_type": "stream",
     "name": "stdout",
     "text": [
      "batch - 19,loss -0.6965752243995667\n"
     ]
    },
    {
     "output_type": "stream",
     "name": "stderr",
     "text": [
      "\r100%|██████████| 21/21 [00:20<00:00,  1.02it/s]"
     ]
    },
    {
     "output_type": "stream",
     "name": "stdout",
     "text": [
      "batch - 20,loss -0.7196465134620667\n"
     ]
    },
    {
     "output_type": "stream",
     "name": "stderr",
     "text": [
      "\r100%|██████████| 21/21 [00:21<00:00,  1.00s/it]\n"
     ]
    },
    {
     "output_type": "stream",
     "name": "stdout",
     "text": [
      "14.64579975605011 20\n",
      "epoch [5] - train_avg_loss: 0.6974190360023862\n"
     ]
    },
    {
     "output_type": "stream",
     "name": "stderr",
     "text": [
      " 20%|██        | 1/5 [00:00<00:00,  7.92it/s]"
     ]
    },
    {
     "output_type": "stream",
     "name": "stdout",
     "text": [
      "0.7879312038421631\n"
     ]
    },
    {
     "output_type": "stream",
     "name": "stderr",
     "text": [
      "\r 40%|████      | 2/5 [00:01<00:01,  1.73it/s]"
     ]
    },
    {
     "output_type": "stream",
     "name": "stdout",
     "text": [
      "0.7094487547874451\n"
     ]
    },
    {
     "output_type": "stream",
     "name": "stderr",
     "text": [
      "\r 60%|██████    | 3/5 [00:02<00:01,  1.24it/s]"
     ]
    },
    {
     "output_type": "stream",
     "name": "stdout",
     "text": [
      "0.7407910823822021\n"
     ]
    },
    {
     "output_type": "stream",
     "name": "stderr",
     "text": [
      "\r 80%|████████  | 4/5 [00:03<00:00,  1.18it/s]"
     ]
    },
    {
     "output_type": "stream",
     "name": "stdout",
     "text": [
      "0.6927402019500732\n"
     ]
    },
    {
     "output_type": "stream",
     "name": "stderr",
     "text": [
      "\r100%|██████████| 5/5 [00:04<00:00,  1.08it/s]"
     ]
    },
    {
     "output_type": "stream",
     "name": "stdout",
     "text": [
      "0.7466199398040771\n"
     ]
    },
    {
     "output_type": "stream",
     "name": "stderr",
     "text": [
      "\r100%|██████████| 5/5 [00:04<00:00,  1.00it/s]\n"
     ]
    },
    {
     "output_type": "stream",
     "name": "stdout",
     "text": [
      "epoch [4] - val_avg_loss: 0.7355062365531921\n"
     ]
    },
    {
     "output_type": "stream",
     "name": "stderr",
     "text": [
      "  5%|▍         | 1/21 [00:00<00:02,  7.97it/s]"
     ]
    },
    {
     "output_type": "stream",
     "name": "stdout",
     "text": [
      "batch - 0,loss -0.6810521483421326\n"
     ]
    },
    {
     "output_type": "stream",
     "name": "stderr",
     "text": [
      "\r 10%|▉         | 2/21 [00:01<00:11,  1.59it/s]"
     ]
    },
    {
     "output_type": "stream",
     "name": "stdout",
     "text": [
      "batch - 1,loss -0.6918394565582275\n"
     ]
    },
    {
     "output_type": "stream",
     "name": "stderr",
     "text": [
      "\r 14%|█▍        | 3/21 [00:02<00:13,  1.33it/s]"
     ]
    },
    {
     "output_type": "stream",
     "name": "stdout",
     "text": [
      "batch - 2,loss -0.7503615617752075\n"
     ]
    },
    {
     "output_type": "stream",
     "name": "stderr",
     "text": [
      "\r 19%|█▉        | 4/21 [00:03<00:15,  1.13it/s]"
     ]
    },
    {
     "output_type": "stream",
     "name": "stdout",
     "text": [
      "batch - 3,loss -0.6716010570526123\n"
     ]
    },
    {
     "output_type": "stream",
     "name": "stderr",
     "text": [
      "\r 24%|██▍       | 5/21 [00:04<00:15,  1.06it/s]"
     ]
    },
    {
     "output_type": "stream",
     "name": "stdout",
     "text": [
      "batch - 4,loss -0.7232428789138794\n"
     ]
    },
    {
     "output_type": "stream",
     "name": "stderr",
     "text": [
      "\r 29%|██▊       | 6/21 [00:05<00:14,  1.06it/s]"
     ]
    },
    {
     "output_type": "stream",
     "name": "stdout",
     "text": [
      "batch - 5,loss -0.7036003470420837\n"
     ]
    },
    {
     "output_type": "stream",
     "name": "stderr",
     "text": [
      "\r 33%|███▎      | 7/21 [00:06<00:13,  1.04it/s]"
     ]
    },
    {
     "output_type": "stream",
     "name": "stdout",
     "text": [
      "batch - 6,loss -0.7301178574562073\n"
     ]
    },
    {
     "output_type": "stream",
     "name": "stderr",
     "text": [
      "\r 38%|███▊      | 8/21 [00:07<00:12,  1.01it/s]"
     ]
    },
    {
     "output_type": "stream",
     "name": "stdout",
     "text": [
      "batch - 7,loss -0.7014783024787903\n"
     ]
    },
    {
     "output_type": "stream",
     "name": "stderr",
     "text": [
      "\r 43%|████▎     | 9/21 [00:08<00:11,  1.01it/s]"
     ]
    },
    {
     "output_type": "stream",
     "name": "stdout",
     "text": [
      "batch - 8,loss -0.6751433610916138\n"
     ]
    },
    {
     "output_type": "stream",
     "name": "stderr",
     "text": [
      "\r 48%|████▊     | 10/21 [00:09<00:10,  1.01it/s]"
     ]
    },
    {
     "output_type": "stream",
     "name": "stdout",
     "text": [
      "batch - 9,loss -0.7042980194091797\n"
     ]
    },
    {
     "output_type": "stream",
     "name": "stderr",
     "text": [
      "\r 52%|█████▏    | 11/21 [00:10<00:09,  1.02it/s]"
     ]
    },
    {
     "output_type": "stream",
     "name": "stdout",
     "text": [
      "batch - 10,loss -0.67271488904953\n"
     ]
    },
    {
     "output_type": "stream",
     "name": "stderr",
     "text": [
      "\r 57%|█████▋    | 12/21 [00:11<00:09,  1.01s/it]"
     ]
    },
    {
     "output_type": "stream",
     "name": "stdout",
     "text": [
      "batch - 11,loss -0.6785287857055664\n"
     ]
    },
    {
     "output_type": "stream",
     "name": "stderr",
     "text": [
      "\r 62%|██████▏   | 13/21 [00:12<00:07,  1.01it/s]"
     ]
    },
    {
     "output_type": "stream",
     "name": "stdout",
     "text": [
      "batch - 12,loss -0.7287859916687012\n"
     ]
    },
    {
     "output_type": "stream",
     "name": "stderr",
     "text": [
      "\r 67%|██████▋   | 14/21 [00:13<00:06,  1.00it/s]"
     ]
    },
    {
     "output_type": "stream",
     "name": "stdout",
     "text": [
      "batch - 13,loss -0.7188369631767273\n"
     ]
    },
    {
     "output_type": "stream",
     "name": "stderr",
     "text": [
      "\r 71%|███████▏  | 15/21 [00:14<00:05,  1.02it/s]"
     ]
    },
    {
     "output_type": "stream",
     "name": "stdout",
     "text": [
      "batch - 14,loss -0.6533931493759155\n"
     ]
    },
    {
     "output_type": "stream",
     "name": "stderr",
     "text": [
      "\r 76%|███████▌  | 16/21 [00:15<00:05,  1.00s/it]"
     ]
    },
    {
     "output_type": "stream",
     "name": "stdout",
     "text": [
      "batch - 15,loss -0.6462764739990234\n"
     ]
    },
    {
     "output_type": "stream",
     "name": "stderr",
     "text": [
      "\r 81%|████████  | 17/21 [00:16<00:03,  1.02it/s]"
     ]
    },
    {
     "output_type": "stream",
     "name": "stdout",
     "text": [
      "batch - 16,loss -0.6903504133224487\n"
     ]
    },
    {
     "output_type": "stream",
     "name": "stderr",
     "text": [
      "\r 86%|████████▌ | 18/21 [00:17<00:03,  1.00s/it]"
     ]
    },
    {
     "output_type": "stream",
     "name": "stdout",
     "text": [
      "batch - 17,loss -0.7022125720977783\n"
     ]
    },
    {
     "output_type": "stream",
     "name": "stderr",
     "text": [
      "\r 90%|█████████ | 19/21 [00:18<00:01,  1.01it/s]"
     ]
    },
    {
     "output_type": "stream",
     "name": "stdout",
     "text": [
      "batch - 18,loss -0.6838990449905396\n"
     ]
    },
    {
     "output_type": "stream",
     "name": "stderr",
     "text": [
      "\r 95%|█████████▌| 20/21 [00:19<00:01,  1.01s/it]"
     ]
    },
    {
     "output_type": "stream",
     "name": "stdout",
     "text": [
      "batch - 19,loss -0.6909511089324951\n"
     ]
    },
    {
     "output_type": "stream",
     "name": "stderr",
     "text": [
      "\r100%|██████████| 21/21 [00:19<00:00,  1.03it/s]"
     ]
    },
    {
     "output_type": "stream",
     "name": "stdout",
     "text": [
      "batch - 20,loss -0.6766381859779358\n"
     ]
    },
    {
     "output_type": "stream",
     "name": "stderr",
     "text": [
      "\r100%|██████████| 21/21 [00:20<00:00,  1.00it/s]\n"
     ]
    },
    {
     "output_type": "stream",
     "name": "stdout",
     "text": [
      "14.575322568416595 20\n",
      "epoch [6] - train_avg_loss: 0.6940629794484093\n"
     ]
    },
    {
     "output_type": "stream",
     "name": "stderr",
     "text": [
      " 20%|██        | 1/5 [00:00<00:00,  7.47it/s]"
     ]
    },
    {
     "output_type": "stream",
     "name": "stdout",
     "text": [
      "0.6988378763198853\n"
     ]
    },
    {
     "output_type": "stream",
     "name": "stderr",
     "text": [
      "\r 40%|████      | 2/5 [00:01<00:01,  1.55it/s]"
     ]
    },
    {
     "output_type": "stream",
     "name": "stdout",
     "text": [
      "0.7054145336151123\n"
     ]
    },
    {
     "output_type": "stream",
     "name": "stderr",
     "text": [
      "\r 60%|██████    | 3/5 [00:02<00:01,  1.27it/s]"
     ]
    },
    {
     "output_type": "stream",
     "name": "stdout",
     "text": [
      "0.7082743644714355\n"
     ]
    },
    {
     "output_type": "stream",
     "name": "stderr",
     "text": [
      "\r 80%|████████  | 4/5 [00:03<00:00,  1.15it/s]"
     ]
    },
    {
     "output_type": "stream",
     "name": "stdout",
     "text": [
      "0.6722557544708252\n"
     ]
    },
    {
     "output_type": "stream",
     "name": "stderr",
     "text": [
      "\r100%|██████████| 5/5 [00:04<00:00,  1.04it/s]"
     ]
    },
    {
     "output_type": "stream",
     "name": "stdout",
     "text": [
      "0.7160412669181824\n"
     ]
    },
    {
     "output_type": "stream",
     "name": "stderr",
     "text": [
      "\r100%|██████████| 5/5 [00:04<00:00,  1.01it/s]\n"
     ]
    },
    {
     "output_type": "stream",
     "name": "stdout",
     "text": [
      "epoch [5] - val_avg_loss: 0.7001647591590882\n",
      "save epoch\n"
     ]
    },
    {
     "output_type": "stream",
     "name": "stderr",
     "text": [
      " 10%|▉         | 2/21 [00:01<00:12,  1.46it/s]"
     ]
    },
    {
     "output_type": "stream",
     "name": "stdout",
     "text": [
      "batch - 0,loss -0.6827530860900879\n",
      "batch - 1,loss -0.7058694362640381\n"
     ]
    },
    {
     "output_type": "stream",
     "name": "stderr",
     "text": [
      " 19%|█▉        | 4/21 [00:03<00:14,  1.14it/s]"
     ]
    },
    {
     "output_type": "stream",
     "name": "stdout",
     "text": [
      "batch - 2,loss -0.7188922166824341\n",
      "batch - 3,loss -0.6976519823074341\n"
     ]
    },
    {
     "output_type": "stream",
     "name": "stderr",
     "text": [
      " 29%|██▊       | 6/21 [00:05<00:14,  1.05it/s]"
     ]
    },
    {
     "output_type": "stream",
     "name": "stdout",
     "text": [
      "batch - 4,loss -0.6911457180976868\n",
      "batch - 5,loss -0.7353773713111877\n"
     ]
    },
    {
     "output_type": "stream",
     "name": "stderr",
     "text": [
      " 38%|███▊      | 8/21 [00:07<00:12,  1.01it/s]"
     ]
    },
    {
     "output_type": "stream",
     "name": "stdout",
     "text": [
      "batch - 6,loss -0.6879485845565796\n",
      "batch - 7,loss -0.6742754578590393\n"
     ]
    },
    {
     "output_type": "stream",
     "name": "stderr",
     "text": [
      " 48%|████▊     | 10/21 [00:09<00:10,  1.04it/s]"
     ]
    },
    {
     "output_type": "stream",
     "name": "stdout",
     "text": [
      "batch - 8,loss -0.7058113813400269\n",
      "batch - 9,loss -0.6643615961074829\n"
     ]
    },
    {
     "output_type": "stream",
     "name": "stderr",
     "text": [
      " 57%|█████▋    | 12/21 [00:11<00:08,  1.02it/s]"
     ]
    },
    {
     "output_type": "stream",
     "name": "stdout",
     "text": [
      "batch - 10,loss -0.7167593240737915\n",
      "batch - 11,loss -0.7198978066444397\n"
     ]
    },
    {
     "output_type": "stream",
     "name": "stderr",
     "text": [
      " 67%|██████▋   | 14/21 [00:13<00:06,  1.01it/s]"
     ]
    },
    {
     "output_type": "stream",
     "name": "stdout",
     "text": [
      "batch - 12,loss -0.6996650695800781\n",
      "batch - 13,loss -0.6567137241363525\n"
     ]
    },
    {
     "output_type": "stream",
     "name": "stderr",
     "text": [
      " 76%|███████▌  | 16/21 [00:15<00:04,  1.01it/s]"
     ]
    },
    {
     "output_type": "stream",
     "name": "stdout",
     "text": [
      "batch - 14,loss -0.7191175818443298\n",
      "batch - 15,loss -0.6625087261199951\n"
     ]
    },
    {
     "output_type": "stream",
     "name": "stderr",
     "text": [
      " 86%|████████▌ | 18/21 [00:17<00:02,  1.03it/s]"
     ]
    },
    {
     "output_type": "stream",
     "name": "stdout",
     "text": [
      "batch - 16,loss -0.6984568238258362\n",
      "batch - 17,loss -0.6979246735572815\n"
     ]
    },
    {
     "output_type": "stream",
     "name": "stderr",
     "text": [
      " 95%|█████████▌| 20/21 [00:19<00:01,  1.01s/it]"
     ]
    },
    {
     "output_type": "stream",
     "name": "stdout",
     "text": [
      "batch - 18,loss -0.7364434003829956\n",
      "batch - 19,loss -0.6673460602760315\n"
     ]
    },
    {
     "output_type": "stream",
     "name": "stderr",
     "text": [
      "100%|██████████| 21/21 [00:20<00:00,  1.00it/s]\n"
     ]
    },
    {
     "output_type": "stream",
     "name": "stdout",
     "text": [
      "batch - 20,loss -0.6956347227096558\n",
      "14.634554743766785 20\n",
      "epoch [7] - train_avg_loss: 0.6968835592269897\n"
     ]
    },
    {
     "output_type": "stream",
     "name": "stderr",
     "text": [
      " 20%|██        | 1/5 [00:00<00:00,  8.66it/s]"
     ]
    },
    {
     "output_type": "stream",
     "name": "stdout",
     "text": [
      "0.7269847393035889\n"
     ]
    },
    {
     "output_type": "stream",
     "name": "stderr",
     "text": [
      "\r 40%|████      | 2/5 [00:01<00:01,  1.50it/s]"
     ]
    },
    {
     "output_type": "stream",
     "name": "stdout",
     "text": [
      "0.6644124984741211\n"
     ]
    },
    {
     "output_type": "stream",
     "name": "stderr",
     "text": [
      "\r 60%|██████    | 3/5 [00:02<00:01,  1.25it/s]"
     ]
    },
    {
     "output_type": "stream",
     "name": "stdout",
     "text": [
      "0.7054781913757324\n"
     ]
    },
    {
     "output_type": "stream",
     "name": "stderr",
     "text": [
      "\r 80%|████████  | 4/5 [00:03<00:00,  1.11it/s]"
     ]
    },
    {
     "output_type": "stream",
     "name": "stdout",
     "text": [
      "0.6668552160263062\n"
     ]
    },
    {
     "output_type": "stream",
     "name": "stderr",
     "text": [
      "\r100%|██████████| 5/5 [00:04<00:00,  1.09it/s]"
     ]
    },
    {
     "output_type": "stream",
     "name": "stdout",
     "text": [
      "0.7141939401626587\n"
     ]
    },
    {
     "output_type": "stream",
     "name": "stderr",
     "text": [
      "\r100%|██████████| 5/5 [00:05<00:00,  1.01s/it]\n"
     ]
    },
    {
     "output_type": "stream",
     "name": "stdout",
     "text": [
      "epoch [6] - val_avg_loss: 0.6955849170684815\n"
     ]
    },
    {
     "output_type": "stream",
     "name": "stderr",
     "text": [
      "  5%|▍         | 1/21 [00:00<00:02,  6.89it/s]"
     ]
    },
    {
     "output_type": "stream",
     "name": "stdout",
     "text": [
      "batch - 0,loss -0.709386944770813\n"
     ]
    },
    {
     "output_type": "stream",
     "name": "stderr",
     "text": [
      "\r 10%|▉         | 2/21 [00:01<00:11,  1.64it/s]"
     ]
    },
    {
     "output_type": "stream",
     "name": "stdout",
     "text": [
      "batch - 1,loss -0.701369047164917\n"
     ]
    },
    {
     "output_type": "stream",
     "name": "stderr",
     "text": [
      "\r 14%|█▍        | 3/21 [00:02<00:13,  1.31it/s]"
     ]
    },
    {
     "output_type": "stream",
     "name": "stdout",
     "text": [
      "batch - 2,loss -0.694744884967804\n"
     ]
    },
    {
     "output_type": "stream",
     "name": "stderr",
     "text": [
      "\r 19%|█▉        | 4/21 [00:03<00:15,  1.13it/s]"
     ]
    },
    {
     "output_type": "stream",
     "name": "stdout",
     "text": [
      "batch - 3,loss -0.6954264640808105\n"
     ]
    },
    {
     "output_type": "stream",
     "name": "stderr",
     "text": [
      "\r 24%|██▍       | 5/21 [00:03<00:14,  1.13it/s]"
     ]
    },
    {
     "output_type": "stream",
     "name": "stdout",
     "text": [
      "batch - 4,loss -0.7027574777603149\n"
     ]
    },
    {
     "output_type": "stream",
     "name": "stderr",
     "text": [
      "\r 29%|██▊       | 6/21 [00:05<00:14,  1.07it/s]"
     ]
    },
    {
     "output_type": "stream",
     "name": "stdout",
     "text": [
      "batch - 5,loss -0.6868708729743958\n"
     ]
    },
    {
     "output_type": "stream",
     "name": "stderr",
     "text": [
      "\r 33%|███▎      | 7/21 [00:06<00:13,  1.01it/s]"
     ]
    },
    {
     "output_type": "stream",
     "name": "stdout",
     "text": [
      "batch - 6,loss -0.6888844966888428\n"
     ]
    },
    {
     "output_type": "stream",
     "name": "stderr",
     "text": [
      "\r 38%|███▊      | 8/21 [00:07<00:12,  1.03it/s]"
     ]
    },
    {
     "output_type": "stream",
     "name": "stdout",
     "text": [
      "batch - 7,loss -0.6952235698699951\n"
     ]
    },
    {
     "output_type": "stream",
     "name": "stderr",
     "text": [
      "\r 43%|████▎     | 9/21 [00:08<00:11,  1.01it/s]"
     ]
    },
    {
     "output_type": "stream",
     "name": "stdout",
     "text": [
      "batch - 8,loss -0.6662383079528809\n"
     ]
    },
    {
     "output_type": "stream",
     "name": "stderr",
     "text": [
      "\r 48%|████▊     | 10/21 [00:09<00:10,  1.02it/s]"
     ]
    },
    {
     "output_type": "stream",
     "name": "stdout",
     "text": [
      "batch - 9,loss -0.6674900650978088\n"
     ]
    },
    {
     "output_type": "stream",
     "name": "stderr",
     "text": [
      "\r 52%|█████▏    | 11/21 [00:10<00:09,  1.00it/s]"
     ]
    },
    {
     "output_type": "stream",
     "name": "stdout",
     "text": [
      "batch - 10,loss -0.6906198263168335\n"
     ]
    },
    {
     "output_type": "stream",
     "name": "stderr",
     "text": [
      "\r 57%|█████▋    | 12/21 [00:11<00:08,  1.01it/s]"
     ]
    },
    {
     "output_type": "stream",
     "name": "stdout",
     "text": [
      "batch - 11,loss -0.7098519802093506\n"
     ]
    },
    {
     "output_type": "stream",
     "name": "stderr",
     "text": [
      "\r 62%|██████▏   | 13/21 [00:12<00:08,  1.00s/it]"
     ]
    },
    {
     "output_type": "stream",
     "name": "stdout",
     "text": [
      "batch - 12,loss -0.6921262145042419\n"
     ]
    },
    {
     "output_type": "stream",
     "name": "stderr",
     "text": [
      "\r 67%|██████▋   | 14/21 [00:13<00:06,  1.02it/s]"
     ]
    },
    {
     "output_type": "stream",
     "name": "stdout",
     "text": [
      "batch - 13,loss -0.6762371063232422\n"
     ]
    },
    {
     "output_type": "stream",
     "name": "stderr",
     "text": [
      "\r 71%|███████▏  | 15/21 [00:14<00:06,  1.00s/it]"
     ]
    },
    {
     "output_type": "stream",
     "name": "stdout",
     "text": [
      "batch - 14,loss -0.6739599704742432\n"
     ]
    },
    {
     "output_type": "stream",
     "name": "stderr",
     "text": [
      "\r 76%|███████▌  | 16/21 [00:15<00:04,  1.02it/s]"
     ]
    },
    {
     "output_type": "stream",
     "name": "stdout",
     "text": [
      "batch - 15,loss -0.7170212864875793\n"
     ]
    },
    {
     "output_type": "stream",
     "name": "stderr",
     "text": [
      "\r 81%|████████  | 17/21 [00:16<00:04,  1.00s/it]"
     ]
    },
    {
     "output_type": "stream",
     "name": "stdout",
     "text": [
      "batch - 16,loss -0.707190990447998\n"
     ]
    },
    {
     "output_type": "stream",
     "name": "stderr",
     "text": [
      "\r 86%|████████▌ | 18/21 [00:17<00:03,  1.02s/it]"
     ]
    },
    {
     "output_type": "stream",
     "name": "stdout",
     "text": [
      "batch - 17,loss -0.6801369190216064\n"
     ]
    },
    {
     "output_type": "stream",
     "name": "stderr",
     "text": [
      "\r 90%|█████████ | 19/21 [00:18<00:01,  1.01it/s]"
     ]
    },
    {
     "output_type": "stream",
     "name": "stdout",
     "text": [
      "batch - 18,loss -0.7086000442504883\n"
     ]
    },
    {
     "output_type": "stream",
     "name": "stderr",
     "text": [
      "\r 95%|█████████▌| 20/21 [00:19<00:01,  1.00s/it]"
     ]
    },
    {
     "output_type": "stream",
     "name": "stdout",
     "text": [
      "batch - 19,loss -0.6794289350509644\n"
     ]
    },
    {
     "output_type": "stream",
     "name": "stderr",
     "text": [
      "\r100%|██████████| 21/21 [00:20<00:00,  1.01it/s]"
     ]
    },
    {
     "output_type": "stream",
     "name": "stdout",
     "text": [
      "batch - 20,loss -0.69838947057724\n"
     ]
    },
    {
     "output_type": "stream",
     "name": "stderr",
     "text": [
      "\r100%|██████████| 21/21 [00:20<00:00,  1.00it/s]\n"
     ]
    },
    {
     "output_type": "stream",
     "name": "stdout",
     "text": [
      "14.54195487499237 20\n",
      "epoch [8] - train_avg_loss: 0.6924740416663033\n"
     ]
    },
    {
     "output_type": "stream",
     "name": "stderr",
     "text": [
      " 20%|██        | 1/5 [00:00<00:00,  7.86it/s]"
     ]
    },
    {
     "output_type": "stream",
     "name": "stdout",
     "text": [
      "0.7401710748672485\n"
     ]
    },
    {
     "output_type": "stream",
     "name": "stderr",
     "text": [
      "\r 40%|████      | 2/5 [00:01<00:01,  1.69it/s]"
     ]
    },
    {
     "output_type": "stream",
     "name": "stdout",
     "text": [
      "0.7148226499557495\n"
     ]
    },
    {
     "output_type": "stream",
     "name": "stderr",
     "text": [
      "\r 60%|██████    | 3/5 [00:02<00:01,  1.27it/s]"
     ]
    },
    {
     "output_type": "stream",
     "name": "stdout",
     "text": [
      "0.7325162291526794\n"
     ]
    },
    {
     "output_type": "stream",
     "name": "stderr",
     "text": [
      "\r 80%|████████  | 4/5 [00:03<00:00,  1.13it/s]"
     ]
    },
    {
     "output_type": "stream",
     "name": "stdout",
     "text": [
      "0.6949106454849243\n"
     ]
    },
    {
     "output_type": "stream",
     "name": "stderr",
     "text": [
      "\r100%|██████████| 5/5 [00:04<00:00,  1.07it/s]"
     ]
    },
    {
     "output_type": "stream",
     "name": "stdout",
     "text": [
      "0.727295994758606\n"
     ]
    },
    {
     "output_type": "stream",
     "name": "stderr",
     "text": [
      "\r100%|██████████| 5/5 [00:04<00:00,  1.01it/s]\n"
     ]
    },
    {
     "output_type": "stream",
     "name": "stdout",
     "text": [
      "epoch [7] - val_avg_loss: 0.7219433188438416\n"
     ]
    },
    {
     "output_type": "stream",
     "name": "stderr",
     "text": [
      "  5%|▍         | 1/21 [00:00<00:02,  6.96it/s]"
     ]
    },
    {
     "output_type": "stream",
     "name": "stdout",
     "text": [
      "batch - 0,loss -0.6774863004684448\n"
     ]
    },
    {
     "output_type": "stream",
     "name": "stderr",
     "text": [
      "\r 10%|▉         | 2/21 [00:01<00:12,  1.51it/s]"
     ]
    },
    {
     "output_type": "stream",
     "name": "stdout",
     "text": [
      "batch - 1,loss -0.6760830879211426\n"
     ]
    },
    {
     "output_type": "stream",
     "name": "stderr",
     "text": [
      "\r 14%|█▍        | 3/21 [00:02<00:14,  1.25it/s]"
     ]
    },
    {
     "output_type": "stream",
     "name": "stdout",
     "text": [
      "batch - 2,loss -0.6817036271095276\n"
     ]
    },
    {
     "output_type": "stream",
     "name": "stderr",
     "text": [
      "\r 19%|█▉        | 4/21 [00:03<00:15,  1.12it/s]"
     ]
    },
    {
     "output_type": "stream",
     "name": "stdout",
     "text": [
      "batch - 3,loss -0.6941089630126953\n"
     ]
    },
    {
     "output_type": "stream",
     "name": "stderr",
     "text": [
      "\r 24%|██▍       | 5/21 [00:04<00:14,  1.11it/s]"
     ]
    },
    {
     "output_type": "stream",
     "name": "stdout",
     "text": [
      "batch - 4,loss -0.6850305795669556\n"
     ]
    },
    {
     "output_type": "stream",
     "name": "stderr",
     "text": [
      "\r 29%|██▊       | 6/21 [00:05<00:14,  1.04it/s]"
     ]
    },
    {
     "output_type": "stream",
     "name": "stdout",
     "text": [
      "batch - 5,loss -0.7289223074913025\n"
     ]
    },
    {
     "output_type": "stream",
     "name": "stderr",
     "text": [
      "\r 33%|███▎      | 7/21 [00:06<00:13,  1.02it/s]"
     ]
    },
    {
     "output_type": "stream",
     "name": "stdout",
     "text": [
      "batch - 6,loss -0.6589754819869995\n"
     ]
    },
    {
     "output_type": "stream",
     "name": "stderr",
     "text": [
      "\r 38%|███▊      | 8/21 [00:07<00:12,  1.03it/s]"
     ]
    },
    {
     "output_type": "stream",
     "name": "stdout",
     "text": [
      "batch - 7,loss -0.7225015759468079\n"
     ]
    },
    {
     "output_type": "stream",
     "name": "stderr",
     "text": [
      "\r 43%|████▎     | 9/21 [00:08<00:11,  1.01it/s]"
     ]
    },
    {
     "output_type": "stream",
     "name": "stdout",
     "text": [
      "batch - 8,loss -0.6944020390510559\n"
     ]
    },
    {
     "output_type": "stream",
     "name": "stderr",
     "text": [
      "\r 48%|████▊     | 10/21 [00:09<00:10,  1.03it/s]"
     ]
    },
    {
     "output_type": "stream",
     "name": "stdout",
     "text": [
      "batch - 9,loss -0.6646422743797302\n"
     ]
    },
    {
     "output_type": "stream",
     "name": "stderr",
     "text": [
      "\r 52%|█████▏    | 11/21 [00:10<00:10,  1.00s/it]"
     ]
    },
    {
     "output_type": "stream",
     "name": "stdout",
     "text": [
      "batch - 10,loss -0.7268507480621338\n"
     ]
    },
    {
     "output_type": "stream",
     "name": "stderr",
     "text": [
      "\r 57%|█████▋    | 12/21 [00:11<00:08,  1.03it/s]"
     ]
    },
    {
     "output_type": "stream",
     "name": "stdout",
     "text": [
      "batch - 11,loss -0.6705275177955627\n"
     ]
    },
    {
     "output_type": "stream",
     "name": "stderr",
     "text": [
      "\r 62%|██████▏   | 13/21 [00:12<00:07,  1.00it/s]"
     ]
    },
    {
     "output_type": "stream",
     "name": "stdout",
     "text": [
      "batch - 12,loss -0.6828237175941467\n"
     ]
    },
    {
     "output_type": "stream",
     "name": "stderr",
     "text": [
      "\r 67%|██████▋   | 14/21 [00:13<00:07,  1.01s/it]"
     ]
    },
    {
     "output_type": "stream",
     "name": "stdout",
     "text": [
      "batch - 13,loss -0.69194495677948\n"
     ]
    },
    {
     "output_type": "stream",
     "name": "stderr",
     "text": [
      "\r 71%|███████▏  | 15/21 [00:14<00:05,  1.02it/s]"
     ]
    },
    {
     "output_type": "stream",
     "name": "stdout",
     "text": [
      "batch - 14,loss -0.6577540636062622\n"
     ]
    },
    {
     "output_type": "stream",
     "name": "stderr",
     "text": [
      "\r 76%|███████▌  | 16/21 [00:15<00:05,  1.01s/it]"
     ]
    },
    {
     "output_type": "stream",
     "name": "stdout",
     "text": [
      "batch - 15,loss -0.7032449245452881\n"
     ]
    },
    {
     "output_type": "stream",
     "name": "stderr",
     "text": [
      "\r 81%|████████  | 17/21 [00:16<00:04,  1.00s/it]"
     ]
    },
    {
     "output_type": "stream",
     "name": "stdout",
     "text": [
      "batch - 16,loss -0.7038506865501404\n"
     ]
    },
    {
     "output_type": "stream",
     "name": "stderr",
     "text": [
      "\r 86%|████████▌ | 18/21 [00:17<00:03,  1.01s/it]"
     ]
    },
    {
     "output_type": "stream",
     "name": "stdout",
     "text": [
      "batch - 17,loss -0.6509667634963989\n"
     ]
    },
    {
     "output_type": "stream",
     "name": "stderr",
     "text": [
      "\r 90%|█████████ | 19/21 [00:18<00:01,  1.00it/s]"
     ]
    },
    {
     "output_type": "stream",
     "name": "stdout",
     "text": [
      "batch - 18,loss -0.6966235637664795\n"
     ]
    },
    {
     "output_type": "stream",
     "name": "stderr",
     "text": [
      "\r 95%|█████████▌| 20/21 [00:19<00:01,  1.01s/it]"
     ]
    },
    {
     "output_type": "stream",
     "name": "stdout",
     "text": [
      "batch - 19,loss -0.6801244020462036\n"
     ]
    },
    {
     "output_type": "stream",
     "name": "stderr",
     "text": [
      "\r100%|██████████| 21/21 [00:20<00:00,  1.01it/s]"
     ]
    },
    {
     "output_type": "stream",
     "name": "stdout",
     "text": [
      "batch - 20,loss -0.7015717625617981\n"
     ]
    },
    {
     "output_type": "stream",
     "name": "stderr",
     "text": [
      "\r100%|██████████| 21/21 [00:21<00:00,  1.00s/it]\n"
     ]
    },
    {
     "output_type": "stream",
     "name": "stdout",
     "text": [
      "14.450139343738556 20\n",
      "epoch [9] - train_avg_loss: 0.6881018735113598\n"
     ]
    },
    {
     "output_type": "stream",
     "name": "stderr",
     "text": [
      " 20%|██        | 1/5 [00:00<00:00,  7.04it/s]"
     ]
    },
    {
     "output_type": "stream",
     "name": "stdout",
     "text": [
      "0.7184264063835144\n"
     ]
    },
    {
     "output_type": "stream",
     "name": "stderr",
     "text": [
      "\r 40%|████      | 2/5 [00:01<00:01,  1.68it/s]"
     ]
    },
    {
     "output_type": "stream",
     "name": "stdout",
     "text": [
      "0.6831030249595642\n"
     ]
    },
    {
     "output_type": "stream",
     "name": "stderr",
     "text": [
      "\r 60%|██████    | 3/5 [00:02<00:01,  1.26it/s]"
     ]
    },
    {
     "output_type": "stream",
     "name": "stdout",
     "text": [
      "0.699506402015686\n"
     ]
    },
    {
     "output_type": "stream",
     "name": "stderr",
     "text": [
      "\r 80%|████████  | 4/5 [00:03<00:00,  1.13it/s]"
     ]
    },
    {
     "output_type": "stream",
     "name": "stdout",
     "text": [
      "0.6913533210754395\n"
     ]
    },
    {
     "output_type": "stream",
     "name": "stderr",
     "text": [
      "\r100%|██████████| 5/5 [00:04<00:00,  1.06it/s]"
     ]
    },
    {
     "output_type": "stream",
     "name": "stdout",
     "text": [
      "0.6969672441482544\n"
     ]
    },
    {
     "output_type": "stream",
     "name": "stderr",
     "text": [
      "\r100%|██████████| 5/5 [00:04<00:00,  1.01it/s]\n"
     ]
    },
    {
     "output_type": "stream",
     "name": "stdout",
     "text": [
      "epoch [8] - val_avg_loss: 0.6978712797164917\n"
     ]
    },
    {
     "output_type": "stream",
     "name": "stderr",
     "text": [
      "  5%|▍         | 1/21 [00:00<00:02,  7.57it/s]"
     ]
    },
    {
     "output_type": "stream",
     "name": "stdout",
     "text": [
      "batch - 0,loss -0.6704623699188232\n"
     ]
    },
    {
     "output_type": "stream",
     "name": "stderr",
     "text": [
      "\r 10%|▉         | 2/21 [00:01<00:12,  1.54it/s]"
     ]
    },
    {
     "output_type": "stream",
     "name": "stdout",
     "text": [
      "batch - 1,loss -0.6922407150268555\n"
     ]
    },
    {
     "output_type": "stream",
     "name": "stderr",
     "text": [
      "\r 14%|█▍        | 3/21 [00:02<00:14,  1.20it/s]"
     ]
    },
    {
     "output_type": "stream",
     "name": "stdout",
     "text": [
      "batch - 2,loss -0.6480050086975098\n"
     ]
    },
    {
     "output_type": "stream",
     "name": "stderr",
     "text": [
      "\r 19%|█▉        | 4/21 [00:03<00:14,  1.15it/s]"
     ]
    },
    {
     "output_type": "stream",
     "name": "stdout",
     "text": [
      "batch - 3,loss -0.6900796294212341\n"
     ]
    },
    {
     "output_type": "stream",
     "name": "stderr",
     "text": [
      "\r 24%|██▍       | 5/21 [00:04<00:14,  1.08it/s]"
     ]
    },
    {
     "output_type": "stream",
     "name": "stdout",
     "text": [
      "batch - 4,loss -0.6737768054008484\n"
     ]
    },
    {
     "output_type": "stream",
     "name": "stderr",
     "text": [
      "\r 29%|██▊       | 6/21 [00:05<00:14,  1.02it/s]"
     ]
    },
    {
     "output_type": "stream",
     "name": "stdout",
     "text": [
      "batch - 5,loss -0.690141499042511\n"
     ]
    },
    {
     "output_type": "stream",
     "name": "stderr",
     "text": [
      "\r 33%|███▎      | 7/21 [00:06<00:13,  1.04it/s]"
     ]
    },
    {
     "output_type": "stream",
     "name": "stdout",
     "text": [
      "batch - 6,loss -0.6908795833587646\n"
     ]
    },
    {
     "output_type": "stream",
     "name": "stderr",
     "text": [
      "\r 38%|███▊      | 8/21 [00:07<00:12,  1.01it/s]"
     ]
    },
    {
     "output_type": "stream",
     "name": "stdout",
     "text": [
      "batch - 7,loss -0.6998758912086487\n"
     ]
    },
    {
     "output_type": "stream",
     "name": "stderr",
     "text": [
      "\r 43%|████▎     | 9/21 [00:08<00:11,  1.03it/s]"
     ]
    },
    {
     "output_type": "stream",
     "name": "stdout",
     "text": [
      "batch - 8,loss -0.6710284948348999\n"
     ]
    },
    {
     "output_type": "stream",
     "name": "stderr",
     "text": [
      "\r 48%|████▊     | 10/21 [00:09<00:10,  1.00it/s]"
     ]
    },
    {
     "output_type": "stream",
     "name": "stdout",
     "text": [
      "batch - 9,loss -0.694507360458374\n"
     ]
    },
    {
     "output_type": "stream",
     "name": "stderr",
     "text": [
      "\r 52%|█████▏    | 11/21 [00:10<00:09,  1.04it/s]"
     ]
    },
    {
     "output_type": "stream",
     "name": "stdout",
     "text": [
      "batch - 10,loss -0.6788040399551392\n"
     ]
    },
    {
     "output_type": "stream",
     "name": "stderr",
     "text": [
      "\r 57%|█████▋    | 12/21 [00:11<00:08,  1.01it/s]"
     ]
    },
    {
     "output_type": "stream",
     "name": "stdout",
     "text": [
      "batch - 11,loss -0.6490709781646729\n"
     ]
    },
    {
     "output_type": "stream",
     "name": "stderr",
     "text": [
      "\r 62%|██████▏   | 13/21 [00:12<00:08,  1.01s/it]"
     ]
    },
    {
     "output_type": "stream",
     "name": "stdout",
     "text": [
      "batch - 12,loss -0.6851028203964233\n"
     ]
    },
    {
     "output_type": "stream",
     "name": "stderr",
     "text": [
      "\r 67%|██████▋   | 14/21 [00:13<00:06,  1.02it/s]"
     ]
    },
    {
     "output_type": "stream",
     "name": "stdout",
     "text": [
      "batch - 13,loss -0.7611069679260254\n"
     ]
    },
    {
     "output_type": "stream",
     "name": "stderr",
     "text": [
      "\r 71%|███████▏  | 15/21 [00:14<00:05,  1.01it/s]"
     ]
    },
    {
     "output_type": "stream",
     "name": "stdout",
     "text": [
      "batch - 14,loss -0.6869490742683411\n"
     ]
    },
    {
     "output_type": "stream",
     "name": "stderr",
     "text": [
      "\r 76%|███████▌  | 16/21 [00:15<00:05,  1.02s/it]"
     ]
    },
    {
     "output_type": "stream",
     "name": "stdout",
     "text": [
      "batch - 15,loss -0.671220064163208\n"
     ]
    },
    {
     "output_type": "stream",
     "name": "stderr",
     "text": [
      "\r 81%|████████  | 17/21 [00:16<00:03,  1.00it/s]"
     ]
    },
    {
     "output_type": "stream",
     "name": "stdout",
     "text": [
      "batch - 16,loss -0.6640582084655762\n"
     ]
    },
    {
     "output_type": "stream",
     "name": "stderr",
     "text": [
      "\r 86%|████████▌ | 18/21 [00:17<00:03,  1.01s/it]"
     ]
    },
    {
     "output_type": "stream",
     "name": "stdout",
     "text": [
      "batch - 17,loss -0.6738742589950562\n"
     ]
    },
    {
     "output_type": "stream",
     "name": "stderr",
     "text": [
      "\r 90%|█████████ | 19/21 [00:18<00:01,  1.01it/s]"
     ]
    },
    {
     "output_type": "stream",
     "name": "stdout",
     "text": [
      "batch - 18,loss -0.7028146982192993\n"
     ]
    },
    {
     "output_type": "stream",
     "name": "stderr",
     "text": [
      "\r 95%|█████████▌| 20/21 [00:19<00:01,  1.01s/it]"
     ]
    },
    {
     "output_type": "stream",
     "name": "stdout",
     "text": [
      "batch - 19,loss -0.6514800786972046\n"
     ]
    },
    {
     "output_type": "stream",
     "name": "stderr",
     "text": [
      "\r100%|██████████| 21/21 [00:20<00:00,  1.00it/s]"
     ]
    },
    {
     "output_type": "stream",
     "name": "stdout",
     "text": [
      "batch - 20,loss -0.7043598294258118\n"
     ]
    },
    {
     "output_type": "stream",
     "name": "stderr",
     "text": [
      "\r100%|██████████| 21/21 [00:21<00:00,  1.00s/it]\n"
     ]
    },
    {
     "output_type": "stream",
     "name": "stdout",
     "text": [
      "14.349838376045227 20\n",
      "epoch [10] - train_avg_loss: 0.6833256369545346\n"
     ]
    },
    {
     "output_type": "stream",
     "name": "stderr",
     "text": [
      " 20%|██        | 1/5 [00:00<00:00,  8.20it/s]"
     ]
    },
    {
     "output_type": "stream",
     "name": "stdout",
     "text": [
      "0.8168121576309204\n"
     ]
    },
    {
     "output_type": "stream",
     "name": "stderr",
     "text": [
      "\r 40%|████      | 2/5 [00:01<00:01,  1.55it/s]"
     ]
    },
    {
     "output_type": "stream",
     "name": "stdout",
     "text": [
      "0.7239206433296204\n"
     ]
    },
    {
     "output_type": "stream",
     "name": "stderr",
     "text": [
      "\r 60%|██████    | 3/5 [00:02<00:01,  1.31it/s]"
     ]
    },
    {
     "output_type": "stream",
     "name": "stdout",
     "text": [
      "0.6711916923522949\n"
     ]
    },
    {
     "output_type": "stream",
     "name": "stderr",
     "text": [
      "\r 80%|████████  | 4/5 [00:03<00:00,  1.16it/s]"
     ]
    },
    {
     "output_type": "stream",
     "name": "stdout",
     "text": [
      "0.7349929809570312\n"
     ]
    },
    {
     "output_type": "stream",
     "name": "stderr",
     "text": [
      "\r100%|██████████| 5/5 [00:04<00:00,  1.11it/s]"
     ]
    },
    {
     "output_type": "stream",
     "name": "stdout",
     "text": [
      "0.7458590865135193\n"
     ]
    },
    {
     "output_type": "stream",
     "name": "stderr",
     "text": [
      "\r100%|██████████| 5/5 [00:04<00:00,  1.02it/s]\n"
     ]
    },
    {
     "output_type": "stream",
     "name": "stdout",
     "text": [
      "epoch [9] - val_avg_loss: 0.7385553121566772\n"
     ]
    },
    {
     "output_type": "stream",
     "name": "stderr",
     "text": [
      "  5%|▍         | 1/21 [00:00<00:02,  7.40it/s]"
     ]
    },
    {
     "output_type": "stream",
     "name": "stdout",
     "text": [
      "batch - 0,loss -0.6609975099563599\n"
     ]
    },
    {
     "output_type": "stream",
     "name": "stderr",
     "text": [
      "\r 10%|▉         | 2/21 [00:01<00:11,  1.64it/s]"
     ]
    },
    {
     "output_type": "stream",
     "name": "stdout",
     "text": [
      "batch - 1,loss -0.7492045164108276\n"
     ]
    },
    {
     "output_type": "stream",
     "name": "stderr",
     "text": [
      "\r 14%|█▍        | 3/21 [00:02<00:14,  1.24it/s]"
     ]
    },
    {
     "output_type": "stream",
     "name": "stdout",
     "text": [
      "batch - 2,loss -0.7155635952949524\n"
     ]
    },
    {
     "output_type": "stream",
     "name": "stderr",
     "text": [
      "\r 19%|█▉        | 4/21 [00:03<00:14,  1.16it/s]"
     ]
    },
    {
     "output_type": "stream",
     "name": "stdout",
     "text": [
      "batch - 3,loss -0.7227530479431152\n"
     ]
    },
    {
     "output_type": "stream",
     "name": "stderr",
     "text": [
      "\r 24%|██▍       | 5/21 [00:04<00:14,  1.08it/s]"
     ]
    },
    {
     "output_type": "stream",
     "name": "stdout",
     "text": [
      "batch - 4,loss -0.7260957956314087\n"
     ]
    },
    {
     "output_type": "stream",
     "name": "stderr",
     "text": [
      "\r 29%|██▊       | 6/21 [00:05<00:14,  1.02it/s]"
     ]
    },
    {
     "output_type": "stream",
     "name": "stdout",
     "text": [
      "batch - 5,loss -0.7223705053329468\n"
     ]
    },
    {
     "output_type": "stream",
     "name": "stderr",
     "text": [
      "\r 33%|███▎      | 7/21 [00:06<00:13,  1.06it/s]"
     ]
    },
    {
     "output_type": "stream",
     "name": "stdout",
     "text": [
      "batch - 6,loss -0.6861224174499512\n"
     ]
    },
    {
     "output_type": "stream",
     "name": "stderr",
     "text": [
      "\r 38%|███▊      | 8/21 [00:07<00:12,  1.02it/s]"
     ]
    },
    {
     "output_type": "stream",
     "name": "stdout",
     "text": [
      "batch - 7,loss -0.7004585266113281\n"
     ]
    },
    {
     "output_type": "stream",
     "name": "stderr",
     "text": [
      "\r 43%|████▎     | 9/21 [00:08<00:11,  1.02it/s]"
     ]
    },
    {
     "output_type": "stream",
     "name": "stdout",
     "text": [
      "batch - 8,loss -0.6756930351257324\n"
     ]
    },
    {
     "output_type": "stream",
     "name": "stderr",
     "text": [
      "\r 48%|████▊     | 10/21 [00:09<00:10,  1.01it/s]"
     ]
    },
    {
     "output_type": "stream",
     "name": "stdout",
     "text": [
      "batch - 9,loss -0.6606504917144775\n"
     ]
    },
    {
     "output_type": "stream",
     "name": "stderr",
     "text": [
      "\r 52%|█████▏    | 11/21 [00:10<00:09,  1.02it/s]"
     ]
    },
    {
     "output_type": "stream",
     "name": "stdout",
     "text": [
      "batch - 10,loss -0.6825774908065796\n"
     ]
    },
    {
     "output_type": "stream",
     "name": "stderr",
     "text": [
      "\r 57%|█████▋    | 12/21 [00:11<00:08,  1.00it/s]"
     ]
    },
    {
     "output_type": "stream",
     "name": "stdout",
     "text": [
      "batch - 11,loss -0.7037144899368286\n"
     ]
    },
    {
     "output_type": "stream",
     "name": "stderr",
     "text": [
      "\r 62%|██████▏   | 13/21 [00:12<00:08,  1.01s/it]"
     ]
    },
    {
     "output_type": "stream",
     "name": "stdout",
     "text": [
      "batch - 12,loss -0.6667110919952393\n"
     ]
    },
    {
     "output_type": "stream",
     "name": "stderr",
     "text": [
      "\r 67%|██████▋   | 14/21 [00:13<00:06,  1.00it/s]"
     ]
    },
    {
     "output_type": "stream",
     "name": "stdout",
     "text": [
      "batch - 13,loss -0.7052525281906128\n"
     ]
    },
    {
     "output_type": "stream",
     "name": "stderr",
     "text": [
      "\r 71%|███████▏  | 15/21 [00:14<00:06,  1.01s/it]"
     ]
    },
    {
     "output_type": "stream",
     "name": "stdout",
     "text": [
      "batch - 14,loss -0.6830523014068604\n"
     ]
    },
    {
     "output_type": "stream",
     "name": "stderr",
     "text": [
      "\r 76%|███████▌  | 16/21 [00:15<00:04,  1.03it/s]"
     ]
    },
    {
     "output_type": "stream",
     "name": "stdout",
     "text": [
      "batch - 15,loss -0.7232089638710022\n"
     ]
    },
    {
     "output_type": "stream",
     "name": "stderr",
     "text": [
      "\r 81%|████████  | 17/21 [00:16<00:03,  1.01it/s]"
     ]
    },
    {
     "output_type": "stream",
     "name": "stdout",
     "text": [
      "batch - 16,loss -0.706167459487915\n"
     ]
    },
    {
     "output_type": "stream",
     "name": "stderr",
     "text": [
      "\r 86%|████████▌ | 18/21 [00:17<00:03,  1.00s/it]"
     ]
    },
    {
     "output_type": "stream",
     "name": "stdout",
     "text": [
      "batch - 17,loss -0.6790428757667542\n"
     ]
    },
    {
     "output_type": "stream",
     "name": "stderr",
     "text": [
      "\r 90%|█████████ | 19/21 [00:18<00:02,  1.03s/it]"
     ]
    },
    {
     "output_type": "stream",
     "name": "stdout",
     "text": [
      "batch - 18,loss -0.6957013607025146\n"
     ]
    },
    {
     "output_type": "stream",
     "name": "stderr",
     "text": [
      "\r 95%|█████████▌| 20/21 [00:19<00:00,  1.02it/s]"
     ]
    },
    {
     "output_type": "stream",
     "name": "stdout",
     "text": [
      "batch - 19,loss -0.6978346109390259\n"
     ]
    },
    {
     "output_type": "stream",
     "name": "stderr",
     "text": [
      "\r100%|██████████| 21/21 [00:20<00:00,  1.01s/it]"
     ]
    },
    {
     "output_type": "stream",
     "name": "stdout",
     "text": [
      "batch - 20,loss -0.7115768194198608\n"
     ]
    },
    {
     "output_type": "stream",
     "name": "stderr",
     "text": [
      "\r100%|██████████| 21/21 [00:20<00:00,  1.00it/s]\n"
     ]
    },
    {
     "output_type": "stream",
     "name": "stdout",
     "text": [
      "14.674749433994293 20\n",
      "epoch [11] - train_avg_loss: 0.6987975920949664\n"
     ]
    },
    {
     "output_type": "stream",
     "name": "stderr",
     "text": [
      " 20%|██        | 1/5 [00:00<00:00,  8.02it/s]"
     ]
    },
    {
     "output_type": "stream",
     "name": "stdout",
     "text": [
      "0.7006131410598755\n"
     ]
    },
    {
     "output_type": "stream",
     "name": "stderr",
     "text": [
      "\r 40%|████      | 2/5 [00:01<00:01,  1.53it/s]"
     ]
    },
    {
     "output_type": "stream",
     "name": "stdout",
     "text": [
      "0.6764567494392395\n"
     ]
    },
    {
     "output_type": "stream",
     "name": "stderr",
     "text": [
      "\r 60%|██████    | 3/5 [00:02<00:02,  1.08s/it]"
     ]
    },
    {
     "output_type": "stream",
     "name": "stdout",
     "text": [
      "0.7020440697669983\n"
     ]
    },
    {
     "output_type": "stream",
     "name": "stderr",
     "text": [
      "\r 80%|████████  | 4/5 [00:02<00:00,  1.34it/s]"
     ]
    },
    {
     "output_type": "stream",
     "name": "stdout",
     "text": [
      "0.6935286521911621\n"
     ]
    },
    {
     "output_type": "stream",
     "name": "stderr",
     "text": [
      "100%|██████████| 5/5 [00:03<00:00,  1.53it/s]\n"
     ]
    },
    {
     "output_type": "stream",
     "name": "stdout",
     "text": [
      "0.7043896913528442\n",
      "epoch [10] - val_avg_loss: 0.695406460762024\n",
      "save epoch\n"
     ]
    },
    {
     "output_type": "stream",
     "name": "stderr",
     "text": [
      "  5%|▍         | 1/21 [00:00<00:04,  4.90it/s]"
     ]
    },
    {
     "output_type": "stream",
     "name": "stdout",
     "text": [
      "batch - 0,loss -0.6715872287750244\n"
     ]
    },
    {
     "output_type": "stream",
     "name": "stderr",
     "text": [
      "\r 10%|▉         | 2/21 [00:00<00:04,  4.28it/s]"
     ]
    },
    {
     "output_type": "stream",
     "name": "stdout",
     "text": [
      "batch - 1,loss -0.6941522359848022\n"
     ]
    },
    {
     "output_type": "stream",
     "name": "stderr",
     "text": [
      "\r 14%|█▍        | 3/21 [00:00<00:04,  4.25it/s]"
     ]
    },
    {
     "output_type": "stream",
     "name": "stdout",
     "text": [
      "batch - 2,loss -0.7044685482978821\n"
     ]
    },
    {
     "output_type": "stream",
     "name": "stderr",
     "text": [
      " 24%|██▍       | 5/21 [00:02<00:08,  1.79it/s]"
     ]
    },
    {
     "output_type": "stream",
     "name": "stdout",
     "text": [
      "batch - 3,loss -0.7036064863204956\n",
      "batch - 4,loss -0.6835033893585205\n"
     ]
    },
    {
     "output_type": "stream",
     "name": "stderr",
     "text": [
      "\r 29%|██▊       | 6/21 [00:02<00:06,  2.18it/s]"
     ]
    },
    {
     "output_type": "stream",
     "name": "stdout",
     "text": [
      "batch - 5,loss -0.6874011754989624\n",
      "batch - 6,loss -0.6944240927696228\n"
     ]
    },
    {
     "output_type": "stream",
     "name": "stderr",
     "text": [
      " 38%|███▊      | 8/21 [00:02<00:04,  2.98it/s]"
     ]
    },
    {
     "output_type": "stream",
     "name": "stdout",
     "text": [
      "batch - 7,loss -0.7209120988845825\n"
     ]
    },
    {
     "output_type": "stream",
     "name": "stderr",
     "text": [
      " 52%|█████▏    | 11/21 [00:05<00:06,  1.65it/s]"
     ]
    },
    {
     "output_type": "stream",
     "name": "stdout",
     "text": [
      "batch - 8,loss -0.6630818843841553\n",
      "batch - 9,loss -0.679008424282074\n",
      "batch - 10,loss -0.7172272205352783\n"
     ]
    },
    {
     "output_type": "stream",
     "name": "stderr",
     "text": [
      " 62%|██████▏   | 13/21 [00:05<00:02,  2.83it/s]"
     ]
    },
    {
     "output_type": "stream",
     "name": "stdout",
     "text": [
      "batch - 11,loss -0.685739278793335\n",
      "batch - 12,loss -0.6988745927810669\n"
     ]
    },
    {
     "output_type": "stream",
     "name": "stderr",
     "text": [
      " 71%|███████▏  | 15/21 [00:06<00:01,  4.31it/s]"
     ]
    },
    {
     "output_type": "stream",
     "name": "stdout",
     "text": [
      "batch - 13,loss -0.6637386083602905\n",
      "batch - 14,loss -0.7130801677703857\n"
     ]
    },
    {
     "output_type": "stream",
     "name": "stderr",
     "text": [
      " 81%|████████  | 17/21 [00:07<00:02,  1.72it/s]"
     ]
    },
    {
     "output_type": "stream",
     "name": "stdout",
     "text": [
      "batch - 15,loss -0.7127821445465088\n",
      "batch - 16,loss -0.6793504953384399\n"
     ]
    },
    {
     "output_type": "stream",
     "name": "stderr",
     "text": [
      " 90%|█████████ | 19/21 [00:07<00:00,  2.90it/s]"
     ]
    },
    {
     "output_type": "stream",
     "name": "stdout",
     "text": [
      "batch - 17,loss -0.6695172786712646\n",
      "batch - 18,loss -0.722140908241272\n"
     ]
    },
    {
     "output_type": "stream",
     "name": "stderr",
     "text": [
      "100%|██████████| 21/21 [00:08<00:00,  2.59it/s]\n"
     ]
    },
    {
     "output_type": "stream",
     "name": "stdout",
     "text": [
      "batch - 19,loss -0.6981937885284424\n",
      "batch - 20,loss -0.6974856853485107\n",
      "14.560275733470917 20\n",
      "epoch [12] - train_avg_loss: 0.6933464634986151\n"
     ]
    },
    {
     "output_type": "stream",
     "name": "stderr",
     "text": [
      " 20%|██        | 1/5 [00:00<00:00,  9.27it/s]"
     ]
    },
    {
     "output_type": "stream",
     "name": "stdout",
     "text": [
      "0.7122364044189453\n"
     ]
    },
    {
     "output_type": "stream",
     "name": "stderr",
     "text": [
      " 80%|████████  | 4/5 [00:01<00:00,  1.91it/s]"
     ]
    },
    {
     "output_type": "stream",
     "name": "stdout",
     "text": [
      "0.6877022981643677\n",
      "0.6873243451118469\n",
      "0.7101162672042847\n"
     ]
    },
    {
     "output_type": "stream",
     "name": "stderr",
     "text": [
      "100%|██████████| 5/5 [00:01<00:00,  2.68it/s]"
     ]
    },
    {
     "output_type": "stream",
     "name": "stdout",
     "text": [
      "0.7115123271942139\n",
      "epoch [11] - val_avg_loss: 0.7017783284187317\n",
      "Finished Training\n"
     ]
    },
    {
     "output_type": "stream",
     "name": "stderr",
     "text": [
      "\n"
     ]
    }
   ],
   "source": [
    "# start_time = time.strftime(\"_%d_%m_%Y_%H_%M\")\n",
    "# result_dir = '/content/drive/MyDrive/results_2' +'/' + start_time \n",
    "# os.makedirs(result_dir, exist_ok=True)\n",
    "# writer = SummaryWriter(result_dir + '/' + 'tensor_logs')\n",
    "# save_each = 5\n",
    "\n",
    "\n",
    "if not os.path.isdir(result_dir +'/Saved_sex'+ '/Periodic_save'):\n",
    "  os.makedirs(result_dir +'/Saved_sex' +'/Periodic_save', exist_ok=True)\n",
    "\n",
    "if not os.path.isdir(result_dir +'/Saved_sex'+ '/Best_model_save'):\n",
    "  os.makedirs(result_dir +'/Saved_sex' +'/Best_model_save', exist_ok=True)\n",
    "\n",
    "\n",
    "device = torch.device('cuda:0' if torch.cuda.is_available() else 'cpu')\n",
    "validation_losses = []\n",
    "sex_net = sex_net.to(device, non_blocking=True)\n",
    "\n",
    "\n",
    "for epoch in range(12):  # loop over the dataset multiple times\n",
    "\n",
    "    running_loss = 0.0\n",
    "    for i, data in enumerate(tqdm(train_dataloader_sex, 0)):\n",
    "        # get the inputs; data is a list of [inputs, labels]\n",
    "        inputs, labels = data\n",
    "        inputs = inputs.to(device, non_blocking=True, dtype=torch.float)\n",
    "        labels = labels.to(device, non_blocking=True, dtype=torch.float)\n",
    "        inputs = inputs.permute(0,2,1)\n",
    "       \n",
    "        # zero the parameter gradients\n",
    "        optimizer_sex.zero_grad()\n",
    "\n",
    "        # forward + backward + optimize\n",
    "        outputs = sex_net(inputs)\n",
    "        loss = criterion_sex(outputs, F.one_hot(labels.to(torch.int64),2).float())\n",
    "        print('batch - {},loss -{}'.format(i,loss.item()))\n",
    "        loss.backward()\n",
    "        optimizer_sex.step()\n",
    "\n",
    "        # print statistics\n",
    "        running_loss += loss.item()\n",
    "    print(running_loss,i)\n",
    "    print(f'epoch [{epoch + 1}] - train_avg_loss: {running_loss / (i+1)}')\n",
    "    writer.add_scalar(\"Train/sex_Loss\", running_loss / (i+1), epoch)   \n",
    "    training_log_sex[\"epoch\"] = epoch\n",
    "    training_log_sex[\"ave_loss\"] = running_loss / (i+1)\n",
    "    writeCSVLoggerFile(csvLoggerFile_path_train_sex,training_log_sex)\n",
    "    with torch.no_grad():\n",
    "            \n",
    "        sex_net.eval()\n",
    "        val_loss = 0.0\n",
    "\n",
    "        for i, val_data in enumerate(tqdm(val_dataloader_sex,0)):\n",
    "\n",
    "            inputs, labels = val_data\n",
    "            inputs = inputs.to(device, non_blocking=True, dtype=torch.float)\n",
    "            labels = labels.to(device, non_blocking=True, dtype=torch.float)\n",
    "            inputs = inputs.permute(0,2,1)\n",
    "            outputs = sex_net(inputs)\n",
    "\n",
    "            loss = criterion_sex(outputs, F.one_hot(labels.to(torch.int64),2).float())\n",
    "            print(loss.item())\n",
    "            val_loss += loss.item()\n",
    "\n",
    "        validation_losses.append(val_loss)  \n",
    "\n",
    "    print(f'epoch [{epoch}] - val_avg_loss: {val_loss / (i+1)}')\n",
    "    writer.add_scalar(\"Validation/sex_Loss\", val_loss / (i+1), epoch)\n",
    "    validaiting_log_sex[\"epoch\"] = epoch\n",
    "    validaiting_log_sex[\"ave_loss\"] = val_loss / (i+1)\n",
    "    writeCSVLoggerFile(csvLoggerFile_path_val_sex,validaiting_log_sex)\n",
    "    \n",
    "    if epoch == 0:\n",
    "        best_loss = val_loss\n",
    "    \n",
    "    # save best model\n",
    "    if epoch > 0  and validation_losses[-1] < best_loss:\n",
    "        best_loss = validation_losses[-1]    \n",
    "        print('save best')\n",
    "        torch.save({\n",
    "            'sex_net': sex_net.state_dict(),\n",
    "            'optimizer_sex': optimizer_sex.state_dict(),\n",
    "            'epoch': epoch+1},\n",
    "            os.path.join(result_dir,'Saved_sex','Best_model_save', f\"SexNet.pth\"))              \n",
    "\n",
    "    # save each % epoch \n",
    "    if epoch > 0  and epoch % save_each == 0:\n",
    "        print('save epoch')\n",
    "        torch.save({\n",
    "            'sex_net': sex_net.state_dict(),\n",
    "            'optimizer_sex': optimizer_sex.state_dict(),\n",
    "            'epoch': epoch+1},\n",
    "            os.path.join(result_dir,'Saved_sex','Periodic_save', f\"SexNet.pth\"))\n",
    "        \n",
    "print('Finished Training')"
   ]
  },
  {
   "cell_type": "markdown",
   "metadata": {
    "id": "iBLECRuq61G6"
   },
   "source": [
    "## Evaluate model"
   ]
  },
  {
   "cell_type": "code",
   "execution_count": null,
   "metadata": {
    "id": "G0zIfRKtbH6u",
    "colab": {
     "base_uri": "https://localhost:8080/"
    },
    "outputId": "5f2056e5-ccab-41c3-866a-205ba8055569"
   },
   "outputs": [
    {
     "output_type": "stream",
     "name": "stdout",
     "text": [
      "AUC test:0.6077935222672064\n",
      "AUC val:0.5093488072211476\n"
     ]
    }
   ],
   "source": [
    "\n",
    "from sklearn.metrics import roc_auc_score\n",
    "from sklearn import metrics\n",
    "# import scikitplot as skplt\n",
    "import matplotlib.pyplot as plt\n",
    "\n",
    "sex_net = sex_net.to(device, non_blocking=True)\n",
    "sex_net.eval()\n",
    "outputs_test_all = []\n",
    "label_test_all = []\n",
    "outputs_val_all = []\n",
    "label_val_all = []\n",
    "for i, test_data in enumerate(test_dataloader_sex,0):\n",
    "\n",
    "            inputs_test, labels_test = test_data\n",
    "            inputs_test = inputs_test.to(device, non_blocking=True, dtype=torch.float)\n",
    "            labels_test = labels_test.to(device, non_blocking=True, dtype=torch.float)\n",
    "            inputs_test = inputs_test.permute(0,2,1)\n",
    "            outputs_test = sex_net(inputs_test)\n",
    "            outputs_test_all.append(outputs_test)\n",
    "            label_test_all.append(labels_test)\n",
    "\n",
    "outputs_test_all = torch.cat(outputs_test_all,dim = 0)\n",
    "label_test_all = torch.cat(label_test_all,dim = 0)\n",
    "\n",
    "# pred_test_sex = outputs_test.detach().cpu().numpy()\n",
    "# y_test_sex_new = F.one_hot(y_test_sex.to(torch.int64),2).float()\n",
    "# auc_test = roc_auc_score(y_test_sex_new, pred_test_sex)\n",
    "pred_test_sex = outputs_test_all.detach().cpu().numpy()\n",
    "# label_test_all = label_test_all.detach().cpu().numpy()\n",
    "y_test_sex_new = F.one_hot(label_test_all.to(torch.int64),2).float().detach().cpu().numpy()\n",
    "auc_test = roc_auc_score(y_test_sex_new, pred_test_sex)\n",
    "\n",
    "\n",
    "\n",
    "for i, val_data in enumerate(val_dataloader_sex,0):\n",
    "\n",
    "            inputs_val, labels_val = val_data\n",
    "            inputs_val = inputs_val.to(device, non_blocking=True, dtype=torch.float)\n",
    "            labels_val = labels_val.to(device, non_blocking=True, dtype=torch.float)\n",
    "            inputs_val = inputs_val.permute(0,2,1)\n",
    "            outputs_val = sex_net(inputs_val)\n",
    "            outputs_val_all.append(outputs_val)\n",
    "            label_val_all.append(labels_val)\n",
    "\n",
    "outputs_val_all = torch.cat(outputs_val_all,dim = 0)\n",
    "label_val_all = torch.cat(label_val_all,dim = 0)\n",
    "\n",
    "pred_val_sex = outputs_val_all.detach().cpu().numpy()\n",
    "y_val_sex_new = F.one_hot(label_val_all.to(torch.int64),2).float().detach().cpu().numpy()\n",
    "auc_val = roc_auc_score(y_val_sex_new, pred_val_sex)\n",
    "\n",
    "# metrics.plot_roc_curve(sex_net, X_test, label_test_all) \n",
    "# plt.show()\n",
    "# skplt.metrics.plot_roc_curve(y_test_sex_new, pred_test_sex)\n",
    "# plt.show()\n",
    "\n",
    "\n",
    "print(f'AUC test:{auc_test}')\n",
    "print(f'AUC val:{auc_val}')"
   ]
  },
  {
   "cell_type": "code",
   "execution_count": null,
   "metadata": {
    "id": "LMhs4wDadLuv",
    "colab": {
     "base_uri": "https://localhost:8080/",
     "height": 295
    },
    "outputId": "2b2d9155-30f1-4f87-81bb-f732ffeae862"
   },
   "outputs": [
    {
     "output_type": "display_data",
     "data": {
      "text/plain": [
       "<Figure size 432x288 with 1 Axes>"
      ],
      "image/png": "[encoded data removed]"
     },
     "metadata": {
      "needs_background": "light"
     }
    }
   ],
   "source": [
    "\n",
    "\n",
    "\n",
    "\n",
    "# take the second column because the classifier outputs scores for\n",
    "# the 0 class as well\n",
    "\n",
    "\n",
    "# fpr means false-positive-rate\n",
    "# tpr means true-positive-rate\n",
    "fpr, tpr, _ = metrics.roc_curve(label_test_all.detach().cpu().numpy(), outputs_test_all[:,1].detach().cpu().numpy())\n",
    "\n",
    "auc_score = metrics.auc(fpr, tpr)\n",
    "\n",
    "# clear current figure\n",
    "\n",
    "\n",
    "plt.title('ROC Curve')\n",
    "plt.plot(fpr, tpr, label='AUC = {:.2f}'.format(auc_score))\n",
    "\n",
    "# it's helpful to add a diagonal to indicate where chance \n",
    "# scores lie (i.e. just flipping a coin)\n",
    "plt.plot([0,1],[0,1],'r--')\n",
    "\n",
    "plt.xlim([-0.1,1.1])\n",
    "plt.ylim([-0.1,1.1])\n",
    "plt.ylabel('True Positive Rate')\n",
    "plt.xlabel('False Positive Rate')\n",
    "\n",
    "plt.legend(loc='lower right')\n",
    "plt.show()"
   ]
  },
  {
   "cell_type": "code",
   "execution_count": null,
   "metadata": {
    "id": "_yJYgZAHY6-G",
    "colab": {
     "base_uri": "https://localhost:8080/",
     "height": 573
    },
    "outputId": "5c8f46a7-78be-49a6-cecf-208f9805bfce"
   },
   "outputs": [
    {
     "output_type": "display_data",
     "data": {
      "text/plain": [
       "<Figure size 432x288 with 1 Axes>"
      ],
      "image/png": "[encoded data removed]"
     },
     "metadata": {
      "needs_background": "light"
     }
    },
    {
     "output_type": "display_data",
     "data": {
      "text/plain": [
       "<Figure size 432x288 with 1 Axes>"
      ],
      "image/png": "[encoded data removed]"
     },
     "metadata": {
      "needs_background": "light"
     }
    }
   ],
   "source": [
    "import pandas as pd\n",
    "import seaborn as sn\n",
    "import matplotlib.pyplot as plt\n",
    "\n",
    "\n",
    "age_net = age_net.to(device, non_blocking=True)\n",
    "age_net.eval()\n",
    "\n",
    "outputs_test_all = []\n",
    "label_test_all = []\n",
    "outputs_val_all = []\n",
    "label_val_all = []\n",
    "\n",
    "\n",
    "for i, test_data in enumerate(test_dataloader_age,0):\n",
    "\n",
    "            inputs_test, labels_test = test_data\n",
    "            inputs_test = inputs_test.to(device, non_blocking=True, dtype=torch.float)\n",
    "            labels_test = labels_test.to(device, non_blocking=True, dtype=torch.float)\n",
    "            inputs_test = inputs_test.permute(0,2,1)\n",
    "            outputs_test = age_net(inputs_test)\n",
    "            outputs_test_all.append(outputs_test)\n",
    "            label_test_all.append(labels_test)\n",
    "\n",
    "outputs_test_all = torch.cat(outputs_test_all,dim = 0)\n",
    "label_test_all = torch.cat(label_test_all,dim = 0).detach().cpu().numpy()\n",
    "\n",
    "pred_test_age = outputs_test_all.detach().cpu().numpy()\n",
    "pred_test_age[np.isnan(label_test_all)]=np.nan\n",
    "#label_test_all[np.isnan(label_test_all)]=0\n",
    "plt.figure()\n",
    "plt.scatter(label_test_all, pred_test_age.squeeze())\n",
    "plt.title('Test set')\n",
    "plt.xlabel('real age')\n",
    "plt.ylabel('cnn prediction')\n",
    "plt.show()\n",
    "\n",
    "for i, val_data in enumerate(val_dataloader_age,0):\n",
    "\n",
    "            inputs_val, labels_val = val_data\n",
    "            inputs_val = inputs_val.to(device, non_blocking=True, dtype=torch.float)\n",
    "            labels_val = labels_val.to(device, non_blocking=True, dtype=torch.float)\n",
    "            inputs_val = inputs_val.permute(0,2,1)\n",
    "            outputs_val = age_net(inputs_val)\n",
    "            outputs_val_all.append(outputs_val)\n",
    "            label_val_all.append(labels_val)\n",
    "\n",
    "outputs_val_all = torch.cat(outputs_val_all,dim = 0)\n",
    "\n",
    "\n",
    "label_val_all = torch.cat(label_val_all,dim = 0).detach().cpu().numpy()\n",
    "pred_val_age = outputs_val_all.detach().cpu().numpy()\n",
    "pred_val_age[np.isnan(label_val_all)]=np.nan\n",
    "# label_val_all[np.isnan(label_val_all)]=0\n",
    "plt.figure()\n",
    "plt.scatter(label_val_all, pred_val_age)\n",
    "plt.title('Validation set')\n",
    "plt.xlabel('real age')\n",
    "plt.ylabel('cnn prediction')\n",
    "plt.show()\n",
    "\n",
    "\n",
    "# data = {'A': [45,37,42,35,39],\n",
    "#         'B': [38,31,26,28,33],\n",
    "#         'C': [10,15,17,21,12]\n",
    "#         }\n",
    "\n",
    "# df = pd.DataFrame(data,columns=['A','B','C'])\n",
    "\n",
    "# corrMatrix = df.corr()\n",
    "# sn.heatmap(corrMatrix, annot=True)\n",
    "# plt.show()"
   ]
  },
  {
   "cell_type": "code",
   "execution_count": null,
   "metadata": {
    "id": "Si4yq_QTCjgH"
   },
   "outputs": [],
   "source": [
    "# torch.cuda.empty_cache()   \n"
   ]
  }
 ],
 "metadata": {
  "accelerator": "GPU",
  "colab": {
   "collapsed_sections": [],
   "name": "Copy of project.ipynb",
   "provenance": []
  },
  "kernelspec": {
   "display_name": "Python 3",
   "name": "python3"
  },
  "language_info": {
   "name": "python"
  }
 },
 "nbformat": 4,
 "nbformat_minor": 0
}